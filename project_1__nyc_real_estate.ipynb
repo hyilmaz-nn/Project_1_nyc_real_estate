{
  "cells": [
    {
      "cell_type": "code",
      "execution_count": 67,
      "id": "32400159",
      "metadata": {
        "id": "32400159"
      },
      "outputs": [],
      "source": [
        "import numpy as np\n",
        "import pandas as pd\n",
        "import matplotlib.pyplot as plt\n"
      ]
    },
    {
      "cell_type": "code",
      "source": [
        "from google.colab import drive\n",
        "drive.mount('/content/drive')"
      ],
      "metadata": {
        "colab": {
          "base_uri": "https://localhost:8080/"
        },
        "id": "VYFY2SNniI33",
        "outputId": "62fbd178-2354-4354-c2e2-6e3514dd9035"
      },
      "id": "VYFY2SNniI33",
      "execution_count": 68,
      "outputs": [
        {
          "output_type": "stream",
          "name": "stdout",
          "text": [
            "Drive already mounted at /content/drive; to attempt to forcibly remount, call drive.mount(\"/content/drive\", force_remount=True).\n"
          ]
        }
      ]
    },
    {
      "cell_type": "code",
      "execution_count": 69,
      "id": "d4291e30",
      "metadata": {
        "id": "d4291e30"
      },
      "outputs": [],
      "source": [
        "file_path='/content/drive/MyDrive/nyc-rolling-sales-1.csv'"
      ]
    },
    {
      "cell_type": "code",
      "source": [
        "df = pd.read_csv(file_path)"
      ],
      "metadata": {
        "id": "3Ibvqy4XjcyQ"
      },
      "id": "3Ibvqy4XjcyQ",
      "execution_count": 70,
      "outputs": []
    },
    {
      "cell_type": "code",
      "execution_count": 71,
      "id": "dd734bcf",
      "metadata": {
        "scrolled": true,
        "colab": {
          "base_uri": "https://localhost:8080/",
          "height": 462
        },
        "id": "dd734bcf",
        "outputId": "26b314e4-6cb5-4453-8cd4-8f918bae5bfc"
      },
      "outputs": [
        {
          "output_type": "execute_result",
          "data": {
            "text/plain": [
              "   Unnamed: 0  BOROUGH   NEIGHBORHOOD  \\\n",
              "0           4        1  ALPHABET CITY   \n",
              "1           5        1  ALPHABET CITY   \n",
              "2           6        1  ALPHABET CITY   \n",
              "\n",
              "                       BUILDING CLASS CATEGORY TAX CLASS AT PRESENT  BLOCK  \\\n",
              "0  07 RENTALS - WALKUP APARTMENTS                                2A    392   \n",
              "1  07 RENTALS - WALKUP APARTMENTS                                 2    399   \n",
              "2  07 RENTALS - WALKUP APARTMENTS                                 2    399   \n",
              "\n",
              "   LOT EASE-MENT BUILDING CLASS AT PRESENT                ADDRESS  ...  \\\n",
              "0    6                                  C2           153 AVENUE B  ...   \n",
              "1   26                                  C7  234 EAST 4TH   STREET  ...   \n",
              "2   39                                  C7  197 EAST 3RD   STREET  ...   \n",
              "\n",
              "  RESIDENTIAL UNITS  COMMERCIAL UNITS  TOTAL UNITS  LAND SQUARE FEET  \\\n",
              "0                 5                 0            5              1633   \n",
              "1                28                 3           31              4616   \n",
              "2                16                 1           17              2212   \n",
              "\n",
              "   GROSS SQUARE FEET YEAR BUILT TAX CLASS AT TIME OF SALE  \\\n",
              "0               6440       1900                         2   \n",
              "1              18690       1900                         2   \n",
              "2               7803       1900                         2   \n",
              "\n",
              "   BUILDING CLASS AT TIME OF SALE  SALE PRICE            SALE DATE  \n",
              "0                              C2     6625000  2017-07-19 00:00:00  \n",
              "1                              C7         -    2016-12-14 00:00:00  \n",
              "2                              C7         -    2016-12-09 00:00:00  \n",
              "\n",
              "[3 rows x 22 columns]"
            ],
            "text/html": [
              "\n",
              "  <div id=\"df-c99769da-4a40-4627-a2e4-590ccb78c682\">\n",
              "    <div class=\"colab-df-container\">\n",
              "      <div>\n",
              "<style scoped>\n",
              "    .dataframe tbody tr th:only-of-type {\n",
              "        vertical-align: middle;\n",
              "    }\n",
              "\n",
              "    .dataframe tbody tr th {\n",
              "        vertical-align: top;\n",
              "    }\n",
              "\n",
              "    .dataframe thead th {\n",
              "        text-align: right;\n",
              "    }\n",
              "</style>\n",
              "<table border=\"1\" class=\"dataframe\">\n",
              "  <thead>\n",
              "    <tr style=\"text-align: right;\">\n",
              "      <th></th>\n",
              "      <th>Unnamed: 0</th>\n",
              "      <th>BOROUGH</th>\n",
              "      <th>NEIGHBORHOOD</th>\n",
              "      <th>BUILDING CLASS CATEGORY</th>\n",
              "      <th>TAX CLASS AT PRESENT</th>\n",
              "      <th>BLOCK</th>\n",
              "      <th>LOT</th>\n",
              "      <th>EASE-MENT</th>\n",
              "      <th>BUILDING CLASS AT PRESENT</th>\n",
              "      <th>ADDRESS</th>\n",
              "      <th>...</th>\n",
              "      <th>RESIDENTIAL UNITS</th>\n",
              "      <th>COMMERCIAL UNITS</th>\n",
              "      <th>TOTAL UNITS</th>\n",
              "      <th>LAND SQUARE FEET</th>\n",
              "      <th>GROSS SQUARE FEET</th>\n",
              "      <th>YEAR BUILT</th>\n",
              "      <th>TAX CLASS AT TIME OF SALE</th>\n",
              "      <th>BUILDING CLASS AT TIME OF SALE</th>\n",
              "      <th>SALE PRICE</th>\n",
              "      <th>SALE DATE</th>\n",
              "    </tr>\n",
              "  </thead>\n",
              "  <tbody>\n",
              "    <tr>\n",
              "      <th>0</th>\n",
              "      <td>4</td>\n",
              "      <td>1</td>\n",
              "      <td>ALPHABET CITY</td>\n",
              "      <td>07 RENTALS - WALKUP APARTMENTS</td>\n",
              "      <td>2A</td>\n",
              "      <td>392</td>\n",
              "      <td>6</td>\n",
              "      <td></td>\n",
              "      <td>C2</td>\n",
              "      <td>153 AVENUE B</td>\n",
              "      <td>...</td>\n",
              "      <td>5</td>\n",
              "      <td>0</td>\n",
              "      <td>5</td>\n",
              "      <td>1633</td>\n",
              "      <td>6440</td>\n",
              "      <td>1900</td>\n",
              "      <td>2</td>\n",
              "      <td>C2</td>\n",
              "      <td>6625000</td>\n",
              "      <td>2017-07-19 00:00:00</td>\n",
              "    </tr>\n",
              "    <tr>\n",
              "      <th>1</th>\n",
              "      <td>5</td>\n",
              "      <td>1</td>\n",
              "      <td>ALPHABET CITY</td>\n",
              "      <td>07 RENTALS - WALKUP APARTMENTS</td>\n",
              "      <td>2</td>\n",
              "      <td>399</td>\n",
              "      <td>26</td>\n",
              "      <td></td>\n",
              "      <td>C7</td>\n",
              "      <td>234 EAST 4TH   STREET</td>\n",
              "      <td>...</td>\n",
              "      <td>28</td>\n",
              "      <td>3</td>\n",
              "      <td>31</td>\n",
              "      <td>4616</td>\n",
              "      <td>18690</td>\n",
              "      <td>1900</td>\n",
              "      <td>2</td>\n",
              "      <td>C7</td>\n",
              "      <td>-</td>\n",
              "      <td>2016-12-14 00:00:00</td>\n",
              "    </tr>\n",
              "    <tr>\n",
              "      <th>2</th>\n",
              "      <td>6</td>\n",
              "      <td>1</td>\n",
              "      <td>ALPHABET CITY</td>\n",
              "      <td>07 RENTALS - WALKUP APARTMENTS</td>\n",
              "      <td>2</td>\n",
              "      <td>399</td>\n",
              "      <td>39</td>\n",
              "      <td></td>\n",
              "      <td>C7</td>\n",
              "      <td>197 EAST 3RD   STREET</td>\n",
              "      <td>...</td>\n",
              "      <td>16</td>\n",
              "      <td>1</td>\n",
              "      <td>17</td>\n",
              "      <td>2212</td>\n",
              "      <td>7803</td>\n",
              "      <td>1900</td>\n",
              "      <td>2</td>\n",
              "      <td>C7</td>\n",
              "      <td>-</td>\n",
              "      <td>2016-12-09 00:00:00</td>\n",
              "    </tr>\n",
              "  </tbody>\n",
              "</table>\n",
              "<p>3 rows × 22 columns</p>\n",
              "</div>\n",
              "      <button class=\"colab-df-convert\" onclick=\"convertToInteractive('df-c99769da-4a40-4627-a2e4-590ccb78c682')\"\n",
              "              title=\"Convert this dataframe to an interactive table.\"\n",
              "              style=\"display:none;\">\n",
              "        \n",
              "  <svg xmlns=\"http://www.w3.org/2000/svg\" height=\"24px\"viewBox=\"0 0 24 24\"\n",
              "       width=\"24px\">\n",
              "    <path d=\"M0 0h24v24H0V0z\" fill=\"none\"/>\n",
              "    <path d=\"M18.56 5.44l.94 2.06.94-2.06 2.06-.94-2.06-.94-.94-2.06-.94 2.06-2.06.94zm-11 1L8.5 8.5l.94-2.06 2.06-.94-2.06-.94L8.5 2.5l-.94 2.06-2.06.94zm10 10l.94 2.06.94-2.06 2.06-.94-2.06-.94-.94-2.06-.94 2.06-2.06.94z\"/><path d=\"M17.41 7.96l-1.37-1.37c-.4-.4-.92-.59-1.43-.59-.52 0-1.04.2-1.43.59L10.3 9.45l-7.72 7.72c-.78.78-.78 2.05 0 2.83L4 21.41c.39.39.9.59 1.41.59.51 0 1.02-.2 1.41-.59l7.78-7.78 2.81-2.81c.8-.78.8-2.07 0-2.86zM5.41 20L4 18.59l7.72-7.72 1.47 1.35L5.41 20z\"/>\n",
              "  </svg>\n",
              "      </button>\n",
              "      \n",
              "  <style>\n",
              "    .colab-df-container {\n",
              "      display:flex;\n",
              "      flex-wrap:wrap;\n",
              "      gap: 12px;\n",
              "    }\n",
              "\n",
              "    .colab-df-convert {\n",
              "      background-color: #E8F0FE;\n",
              "      border: none;\n",
              "      border-radius: 50%;\n",
              "      cursor: pointer;\n",
              "      display: none;\n",
              "      fill: #1967D2;\n",
              "      height: 32px;\n",
              "      padding: 0 0 0 0;\n",
              "      width: 32px;\n",
              "    }\n",
              "\n",
              "    .colab-df-convert:hover {\n",
              "      background-color: #E2EBFA;\n",
              "      box-shadow: 0px 1px 2px rgba(60, 64, 67, 0.3), 0px 1px 3px 1px rgba(60, 64, 67, 0.15);\n",
              "      fill: #174EA6;\n",
              "    }\n",
              "\n",
              "    [theme=dark] .colab-df-convert {\n",
              "      background-color: #3B4455;\n",
              "      fill: #D2E3FC;\n",
              "    }\n",
              "\n",
              "    [theme=dark] .colab-df-convert:hover {\n",
              "      background-color: #434B5C;\n",
              "      box-shadow: 0px 1px 3px 1px rgba(0, 0, 0, 0.15);\n",
              "      filter: drop-shadow(0px 1px 2px rgba(0, 0, 0, 0.3));\n",
              "      fill: #FFFFFF;\n",
              "    }\n",
              "  </style>\n",
              "\n",
              "      <script>\n",
              "        const buttonEl =\n",
              "          document.querySelector('#df-c99769da-4a40-4627-a2e4-590ccb78c682 button.colab-df-convert');\n",
              "        buttonEl.style.display =\n",
              "          google.colab.kernel.accessAllowed ? 'block' : 'none';\n",
              "\n",
              "        async function convertToInteractive(key) {\n",
              "          const element = document.querySelector('#df-c99769da-4a40-4627-a2e4-590ccb78c682');\n",
              "          const dataTable =\n",
              "            await google.colab.kernel.invokeFunction('convertToInteractive',\n",
              "                                                     [key], {});\n",
              "          if (!dataTable) return;\n",
              "\n",
              "          const docLinkHtml = 'Like what you see? Visit the ' +\n",
              "            '<a target=\"_blank\" href=https://colab.research.google.com/notebooks/data_table.ipynb>data table notebook</a>'\n",
              "            + ' to learn more about interactive tables.';\n",
              "          element.innerHTML = '';\n",
              "          dataTable['output_type'] = 'display_data';\n",
              "          await google.colab.output.renderOutput(dataTable, element);\n",
              "          const docLink = document.createElement('div');\n",
              "          docLink.innerHTML = docLinkHtml;\n",
              "          element.appendChild(docLink);\n",
              "        }\n",
              "      </script>\n",
              "    </div>\n",
              "  </div>\n",
              "  "
            ]
          },
          "metadata": {},
          "execution_count": 71
        }
      ],
      "source": [
        "df.head(3)"
      ]
    },
    {
      "cell_type": "code",
      "source": [
        "df.dtypes"
      ],
      "metadata": {
        "colab": {
          "base_uri": "https://localhost:8080/"
        },
        "id": "FcRV1yrmAx6b",
        "outputId": "208f7ebf-921c-4fab-e17e-853e3d20dbc1"
      },
      "id": "FcRV1yrmAx6b",
      "execution_count": 72,
      "outputs": [
        {
          "output_type": "execute_result",
          "data": {
            "text/plain": [
              "Unnamed: 0                         int64\n",
              "BOROUGH                            int64\n",
              "NEIGHBORHOOD                      object\n",
              "BUILDING CLASS CATEGORY           object\n",
              "TAX CLASS AT PRESENT              object\n",
              "BLOCK                              int64\n",
              "LOT                                int64\n",
              "EASE-MENT                         object\n",
              "BUILDING CLASS AT PRESENT         object\n",
              "ADDRESS                           object\n",
              "APARTMENT NUMBER                  object\n",
              "ZIP CODE                           int64\n",
              "RESIDENTIAL UNITS                  int64\n",
              "COMMERCIAL UNITS                   int64\n",
              "TOTAL UNITS                        int64\n",
              "LAND SQUARE FEET                  object\n",
              "GROSS SQUARE FEET                 object\n",
              "YEAR BUILT                         int64\n",
              "TAX CLASS AT TIME OF SALE          int64\n",
              "BUILDING CLASS AT TIME OF SALE    object\n",
              "SALE PRICE                        object\n",
              "SALE DATE                         object\n",
              "dtype: object"
            ]
          },
          "metadata": {},
          "execution_count": 72
        }
      ]
    },
    {
      "cell_type": "code",
      "source": [
        "df['BUILDING CLASS AT TIME OF SALE'].value_counts()"
      ],
      "metadata": {
        "colab": {
          "base_uri": "https://localhost:8080/"
        },
        "id": "K5xz2PvQDqkP",
        "outputId": "9318eaf0-9f73-41d0-c8d8-6a3556a6106c"
      },
      "id": "K5xz2PvQDqkP",
      "execution_count": 73,
      "outputs": [
        {
          "output_type": "execute_result",
          "data": {
            "text/plain": [
              "R4    12989\n",
              "D4    12666\n",
              "A1     6751\n",
              "A5     5671\n",
              "B2     4918\n",
              "      ...  \n",
              "I3        1\n",
              "R7        1\n",
              "Q8        1\n",
              "Y1        1\n",
              "Z7        1\n",
              "Name: BUILDING CLASS AT TIME OF SALE, Length: 166, dtype: int64"
            ]
          },
          "metadata": {},
          "execution_count": 73
        }
      ]
    },
    {
      "cell_type": "code",
      "source": [
        "#column names\n",
        "df.columns"
      ],
      "metadata": {
        "colab": {
          "base_uri": "https://localhost:8080/"
        },
        "id": "PAdRVYwUBBlK",
        "outputId": "216cbc9e-1186-4bc4-e05f-a3766b17165b"
      },
      "id": "PAdRVYwUBBlK",
      "execution_count": 74,
      "outputs": [
        {
          "output_type": "execute_result",
          "data": {
            "text/plain": [
              "Index(['Unnamed: 0', 'BOROUGH', 'NEIGHBORHOOD', 'BUILDING CLASS CATEGORY',\n",
              "       'TAX CLASS AT PRESENT', 'BLOCK', 'LOT', 'EASE-MENT',\n",
              "       'BUILDING CLASS AT PRESENT', 'ADDRESS', 'APARTMENT NUMBER', 'ZIP CODE',\n",
              "       'RESIDENTIAL UNITS', 'COMMERCIAL UNITS', 'TOTAL UNITS',\n",
              "       'LAND SQUARE FEET', 'GROSS SQUARE FEET', 'YEAR BUILT',\n",
              "       'TAX CLASS AT TIME OF SALE', 'BUILDING CLASS AT TIME OF SALE',\n",
              "       'SALE PRICE', 'SALE DATE'],\n",
              "      dtype='object')"
            ]
          },
          "metadata": {},
          "execution_count": 74
        }
      ]
    },
    {
      "cell_type": "code",
      "source": [
        "#Selected columns\n",
        "df_2=df[['BOROUGH','TAX CLASS AT PRESENT','TOTAL UNITS','LAND SQUARE FEET', 'GROSS SQUARE FEET', 'YEAR BUILT','SALE PRICE','SALE DATE']]"
      ],
      "metadata": {
        "id": "EjQvetVwBIwG"
      },
      "id": "EjQvetVwBIwG",
      "execution_count": 75,
      "outputs": []
    },
    {
      "cell_type": "code",
      "source": [
        "#selected columns data types\n",
        "df_2.dtypes"
      ],
      "metadata": {
        "colab": {
          "base_uri": "https://localhost:8080/"
        },
        "id": "HhjEqWSlCXbJ",
        "outputId": "205f74b9-e66a-4d61-d72b-6f98de655363"
      },
      "id": "HhjEqWSlCXbJ",
      "execution_count": 76,
      "outputs": [
        {
          "output_type": "execute_result",
          "data": {
            "text/plain": [
              "BOROUGH                  int64\n",
              "TAX CLASS AT PRESENT    object\n",
              "TOTAL UNITS              int64\n",
              "LAND SQUARE FEET        object\n",
              "GROSS SQUARE FEET       object\n",
              "YEAR BUILT               int64\n",
              "SALE PRICE              object\n",
              "SALE DATE               object\n",
              "dtype: object"
            ]
          },
          "metadata": {},
          "execution_count": 76
        }
      ]
    },
    {
      "cell_type": "code",
      "source": [
        "#Replace hyphen entries to np.nan and remove these values.\n",
        "cols_to_clean=['LAND SQUARE FEET',\"GROSS SQUARE FEET\",\"SALE PRICE\"]\n",
        "df_2[cols_to_clean] = df_2[cols_to_clean].apply(lambda x: x.str.strip().replace(r'^-$', np.nan, regex=True))\n",
        "df_2 = df_2.dropna()"
      ],
      "metadata": {
        "colab": {
          "base_uri": "https://localhost:8080/"
        },
        "id": "wZ3m7Ru7ChdJ",
        "outputId": "c15354c3-93fb-44e7-a61d-f11f36776457"
      },
      "id": "wZ3m7Ru7ChdJ",
      "execution_count": 77,
      "outputs": [
        {
          "output_type": "stream",
          "name": "stderr",
          "text": [
            "/usr/local/lib/python3.8/dist-packages/pandas/core/frame.py:3641: SettingWithCopyWarning: \n",
            "A value is trying to be set on a copy of a slice from a DataFrame.\n",
            "Try using .loc[row_indexer,col_indexer] = value instead\n",
            "\n",
            "See the caveats in the documentation: https://pandas.pydata.org/pandas-docs/stable/user_guide/indexing.html#returning-a-view-versus-a-copy\n",
            "  self[k1] = value[k2]\n"
          ]
        }
      ]
    },
    {
      "cell_type": "code",
      "source": [
        "#numerical values to int64\n",
        "df_2[['LAND SQUARE FEET',\"GROSS SQUARE FEET\",\"SALE PRICE\"]]= df_2[['LAND SQUARE FEET',\"GROSS SQUARE FEET\",\"SALE PRICE\"]].astype('int64')\n",
        "df_2.dtypes"
      ],
      "metadata": {
        "colab": {
          "base_uri": "https://localhost:8080/"
        },
        "id": "9PxF5mnrCU9Y",
        "outputId": "48b8eead-b111-48a5-9dca-7f027e05cc24"
      },
      "id": "9PxF5mnrCU9Y",
      "execution_count": 78,
      "outputs": [
        {
          "output_type": "execute_result",
          "data": {
            "text/plain": [
              "BOROUGH                  int64\n",
              "TAX CLASS AT PRESENT    object\n",
              "TOTAL UNITS              int64\n",
              "LAND SQUARE FEET         int64\n",
              "GROSS SQUARE FEET        int64\n",
              "YEAR BUILT               int64\n",
              "SALE PRICE               int64\n",
              "SALE DATE               object\n",
              "dtype: object"
            ]
          },
          "metadata": {},
          "execution_count": 78
        }
      ]
    },
    {
      "cell_type": "code",
      "source": [
        "#Convert SALE DATE to datetime\n",
        "df_2['SALE DATE']=pd.to_datetime(df_2['SALE DATE'])"
      ],
      "metadata": {
        "colab": {
          "base_uri": "https://localhost:8080/"
        },
        "id": "HqbJwZRYE-7u",
        "outputId": "322233b2-883c-4b8c-8489-bec7f2f3c4df"
      },
      "id": "HqbJwZRYE-7u",
      "execution_count": 79,
      "outputs": [
        {
          "output_type": "stream",
          "name": "stderr",
          "text": [
            "<ipython-input-79-e985dc89c188>:2: SettingWithCopyWarning: \n",
            "A value is trying to be set on a copy of a slice from a DataFrame.\n",
            "Try using .loc[row_indexer,col_indexer] = value instead\n",
            "\n",
            "See the caveats in the documentation: https://pandas.pydata.org/pandas-docs/stable/user_guide/indexing.html#returning-a-view-versus-a-copy\n",
            "  df_2['SALE DATE']=pd.to_datetime(df_2['SALE DATE'])\n"
          ]
        }
      ]
    },
    {
      "cell_type": "code",
      "source": [
        "df_2.head(10)"
      ],
      "metadata": {
        "colab": {
          "base_uri": "https://localhost:8080/",
          "height": 363
        },
        "id": "caLWBPUjF7xx",
        "outputId": "7047fe23-439a-4270-daa0-5a2d7b4c8087"
      },
      "id": "caLWBPUjF7xx",
      "execution_count": 80,
      "outputs": [
        {
          "output_type": "execute_result",
          "data": {
            "text/plain": [
              "     BOROUGH TAX CLASS AT PRESENT  TOTAL UNITS  LAND SQUARE FEET  \\\n",
              "0          1                   2A            5              1633   \n",
              "3          1                   2B           10              2272   \n",
              "4          1                   2A            6              2369   \n",
              "6          1                   2B            8              1750   \n",
              "9          1                    2           24              4489   \n",
              "11         1                   2B           10              3717   \n",
              "22         1                    2           24              4131   \n",
              "172        1                   2A            4              1520   \n",
              "173        1                   2A            5              2201   \n",
              "174        1                   2A            6              1779   \n",
              "\n",
              "     GROSS SQUARE FEET  YEAR BUILT  SALE PRICE  SALE DATE  \n",
              "0                 6440        1900     6625000 2017-07-19  \n",
              "3                 6794        1913     3936272 2016-09-23  \n",
              "4                 4615        1900     8000000 2016-11-17  \n",
              "6                 4226        1920     3192840 2016-09-23  \n",
              "9                18523        1920    16232000 2016-11-07  \n",
              "11               12350        2009    10350000 2016-10-17  \n",
              "22               16776        1928    11900000 2017-06-21  \n",
              "172               3360        1910     3300000 2016-11-15  \n",
              "173               5608        1900     7215000 2017-01-30  \n",
              "174               3713        1910     4750000 2017-04-03  "
            ],
            "text/html": [
              "\n",
              "  <div id=\"df-14ed8fd3-94f2-4c68-a8d6-aa8882b3fc0c\">\n",
              "    <div class=\"colab-df-container\">\n",
              "      <div>\n",
              "<style scoped>\n",
              "    .dataframe tbody tr th:only-of-type {\n",
              "        vertical-align: middle;\n",
              "    }\n",
              "\n",
              "    .dataframe tbody tr th {\n",
              "        vertical-align: top;\n",
              "    }\n",
              "\n",
              "    .dataframe thead th {\n",
              "        text-align: right;\n",
              "    }\n",
              "</style>\n",
              "<table border=\"1\" class=\"dataframe\">\n",
              "  <thead>\n",
              "    <tr style=\"text-align: right;\">\n",
              "      <th></th>\n",
              "      <th>BOROUGH</th>\n",
              "      <th>TAX CLASS AT PRESENT</th>\n",
              "      <th>TOTAL UNITS</th>\n",
              "      <th>LAND SQUARE FEET</th>\n",
              "      <th>GROSS SQUARE FEET</th>\n",
              "      <th>YEAR BUILT</th>\n",
              "      <th>SALE PRICE</th>\n",
              "      <th>SALE DATE</th>\n",
              "    </tr>\n",
              "  </thead>\n",
              "  <tbody>\n",
              "    <tr>\n",
              "      <th>0</th>\n",
              "      <td>1</td>\n",
              "      <td>2A</td>\n",
              "      <td>5</td>\n",
              "      <td>1633</td>\n",
              "      <td>6440</td>\n",
              "      <td>1900</td>\n",
              "      <td>6625000</td>\n",
              "      <td>2017-07-19</td>\n",
              "    </tr>\n",
              "    <tr>\n",
              "      <th>3</th>\n",
              "      <td>1</td>\n",
              "      <td>2B</td>\n",
              "      <td>10</td>\n",
              "      <td>2272</td>\n",
              "      <td>6794</td>\n",
              "      <td>1913</td>\n",
              "      <td>3936272</td>\n",
              "      <td>2016-09-23</td>\n",
              "    </tr>\n",
              "    <tr>\n",
              "      <th>4</th>\n",
              "      <td>1</td>\n",
              "      <td>2A</td>\n",
              "      <td>6</td>\n",
              "      <td>2369</td>\n",
              "      <td>4615</td>\n",
              "      <td>1900</td>\n",
              "      <td>8000000</td>\n",
              "      <td>2016-11-17</td>\n",
              "    </tr>\n",
              "    <tr>\n",
              "      <th>6</th>\n",
              "      <td>1</td>\n",
              "      <td>2B</td>\n",
              "      <td>8</td>\n",
              "      <td>1750</td>\n",
              "      <td>4226</td>\n",
              "      <td>1920</td>\n",
              "      <td>3192840</td>\n",
              "      <td>2016-09-23</td>\n",
              "    </tr>\n",
              "    <tr>\n",
              "      <th>9</th>\n",
              "      <td>1</td>\n",
              "      <td>2</td>\n",
              "      <td>24</td>\n",
              "      <td>4489</td>\n",
              "      <td>18523</td>\n",
              "      <td>1920</td>\n",
              "      <td>16232000</td>\n",
              "      <td>2016-11-07</td>\n",
              "    </tr>\n",
              "    <tr>\n",
              "      <th>11</th>\n",
              "      <td>1</td>\n",
              "      <td>2B</td>\n",
              "      <td>10</td>\n",
              "      <td>3717</td>\n",
              "      <td>12350</td>\n",
              "      <td>2009</td>\n",
              "      <td>10350000</td>\n",
              "      <td>2016-10-17</td>\n",
              "    </tr>\n",
              "    <tr>\n",
              "      <th>22</th>\n",
              "      <td>1</td>\n",
              "      <td>2</td>\n",
              "      <td>24</td>\n",
              "      <td>4131</td>\n",
              "      <td>16776</td>\n",
              "      <td>1928</td>\n",
              "      <td>11900000</td>\n",
              "      <td>2017-06-21</td>\n",
              "    </tr>\n",
              "    <tr>\n",
              "      <th>172</th>\n",
              "      <td>1</td>\n",
              "      <td>2A</td>\n",
              "      <td>4</td>\n",
              "      <td>1520</td>\n",
              "      <td>3360</td>\n",
              "      <td>1910</td>\n",
              "      <td>3300000</td>\n",
              "      <td>2016-11-15</td>\n",
              "    </tr>\n",
              "    <tr>\n",
              "      <th>173</th>\n",
              "      <td>1</td>\n",
              "      <td>2A</td>\n",
              "      <td>5</td>\n",
              "      <td>2201</td>\n",
              "      <td>5608</td>\n",
              "      <td>1900</td>\n",
              "      <td>7215000</td>\n",
              "      <td>2017-01-30</td>\n",
              "    </tr>\n",
              "    <tr>\n",
              "      <th>174</th>\n",
              "      <td>1</td>\n",
              "      <td>2A</td>\n",
              "      <td>6</td>\n",
              "      <td>1779</td>\n",
              "      <td>3713</td>\n",
              "      <td>1910</td>\n",
              "      <td>4750000</td>\n",
              "      <td>2017-04-03</td>\n",
              "    </tr>\n",
              "  </tbody>\n",
              "</table>\n",
              "</div>\n",
              "      <button class=\"colab-df-convert\" onclick=\"convertToInteractive('df-14ed8fd3-94f2-4c68-a8d6-aa8882b3fc0c')\"\n",
              "              title=\"Convert this dataframe to an interactive table.\"\n",
              "              style=\"display:none;\">\n",
              "        \n",
              "  <svg xmlns=\"http://www.w3.org/2000/svg\" height=\"24px\"viewBox=\"0 0 24 24\"\n",
              "       width=\"24px\">\n",
              "    <path d=\"M0 0h24v24H0V0z\" fill=\"none\"/>\n",
              "    <path d=\"M18.56 5.44l.94 2.06.94-2.06 2.06-.94-2.06-.94-.94-2.06-.94 2.06-2.06.94zm-11 1L8.5 8.5l.94-2.06 2.06-.94-2.06-.94L8.5 2.5l-.94 2.06-2.06.94zm10 10l.94 2.06.94-2.06 2.06-.94-2.06-.94-.94-2.06-.94 2.06-2.06.94z\"/><path d=\"M17.41 7.96l-1.37-1.37c-.4-.4-.92-.59-1.43-.59-.52 0-1.04.2-1.43.59L10.3 9.45l-7.72 7.72c-.78.78-.78 2.05 0 2.83L4 21.41c.39.39.9.59 1.41.59.51 0 1.02-.2 1.41-.59l7.78-7.78 2.81-2.81c.8-.78.8-2.07 0-2.86zM5.41 20L4 18.59l7.72-7.72 1.47 1.35L5.41 20z\"/>\n",
              "  </svg>\n",
              "      </button>\n",
              "      \n",
              "  <style>\n",
              "    .colab-df-container {\n",
              "      display:flex;\n",
              "      flex-wrap:wrap;\n",
              "      gap: 12px;\n",
              "    }\n",
              "\n",
              "    .colab-df-convert {\n",
              "      background-color: #E8F0FE;\n",
              "      border: none;\n",
              "      border-radius: 50%;\n",
              "      cursor: pointer;\n",
              "      display: none;\n",
              "      fill: #1967D2;\n",
              "      height: 32px;\n",
              "      padding: 0 0 0 0;\n",
              "      width: 32px;\n",
              "    }\n",
              "\n",
              "    .colab-df-convert:hover {\n",
              "      background-color: #E2EBFA;\n",
              "      box-shadow: 0px 1px 2px rgba(60, 64, 67, 0.3), 0px 1px 3px 1px rgba(60, 64, 67, 0.15);\n",
              "      fill: #174EA6;\n",
              "    }\n",
              "\n",
              "    [theme=dark] .colab-df-convert {\n",
              "      background-color: #3B4455;\n",
              "      fill: #D2E3FC;\n",
              "    }\n",
              "\n",
              "    [theme=dark] .colab-df-convert:hover {\n",
              "      background-color: #434B5C;\n",
              "      box-shadow: 0px 1px 3px 1px rgba(0, 0, 0, 0.15);\n",
              "      filter: drop-shadow(0px 1px 2px rgba(0, 0, 0, 0.3));\n",
              "      fill: #FFFFFF;\n",
              "    }\n",
              "  </style>\n",
              "\n",
              "      <script>\n",
              "        const buttonEl =\n",
              "          document.querySelector('#df-14ed8fd3-94f2-4c68-a8d6-aa8882b3fc0c button.colab-df-convert');\n",
              "        buttonEl.style.display =\n",
              "          google.colab.kernel.accessAllowed ? 'block' : 'none';\n",
              "\n",
              "        async function convertToInteractive(key) {\n",
              "          const element = document.querySelector('#df-14ed8fd3-94f2-4c68-a8d6-aa8882b3fc0c');\n",
              "          const dataTable =\n",
              "            await google.colab.kernel.invokeFunction('convertToInteractive',\n",
              "                                                     [key], {});\n",
              "          if (!dataTable) return;\n",
              "\n",
              "          const docLinkHtml = 'Like what you see? Visit the ' +\n",
              "            '<a target=\"_blank\" href=https://colab.research.google.com/notebooks/data_table.ipynb>data table notebook</a>'\n",
              "            + ' to learn more about interactive tables.';\n",
              "          element.innerHTML = '';\n",
              "          dataTable['output_type'] = 'display_data';\n",
              "          await google.colab.output.renderOutput(dataTable, element);\n",
              "          const docLink = document.createElement('div');\n",
              "          docLink.innerHTML = docLinkHtml;\n",
              "          element.appendChild(docLink);\n",
              "        }\n",
              "      </script>\n",
              "    </div>\n",
              "  </div>\n",
              "  "
            ]
          },
          "metadata": {},
          "execution_count": 80
        }
      ]
    },
    {
      "cell_type": "code",
      "source": [
        "df_3 = df_2[~(df_2==0).any(axis=1)]"
      ],
      "metadata": {
        "id": "yInuI2dpGyuS"
      },
      "id": "yInuI2dpGyuS",
      "execution_count": 81,
      "outputs": []
    },
    {
      "cell_type": "code",
      "source": [
        "zero_counts = df_3.isin([0]).sum()\n",
        "zero_counts"
      ],
      "metadata": {
        "colab": {
          "base_uri": "https://localhost:8080/"
        },
        "outputId": "be08af69-5abd-430b-9922-a99a82153d6f",
        "id": "C9EKbjQk9q3f"
      },
      "execution_count": 82,
      "outputs": [
        {
          "output_type": "execute_result",
          "data": {
            "text/plain": [
              "BOROUGH                 0\n",
              "TAX CLASS AT PRESENT    0\n",
              "TOTAL UNITS             0\n",
              "LAND SQUARE FEET        0\n",
              "GROSS SQUARE FEET       0\n",
              "YEAR BUILT              0\n",
              "SALE PRICE              0\n",
              "SALE DATE               0\n",
              "dtype: int64"
            ]
          },
          "metadata": {},
          "execution_count": 82
        }
      ],
      "id": "C9EKbjQk9q3f"
    },
    {
      "cell_type": "code",
      "source": [
        "na_counts =df_3.isna().sum()\n",
        "na_counts"
      ],
      "metadata": {
        "colab": {
          "base_uri": "https://localhost:8080/"
        },
        "id": "tyzo1OyrH_zu",
        "outputId": "eea4fb1d-3bcb-43ea-ae3c-f31d705514d3"
      },
      "id": "tyzo1OyrH_zu",
      "execution_count": 83,
      "outputs": [
        {
          "output_type": "execute_result",
          "data": {
            "text/plain": [
              "BOROUGH                 0\n",
              "TAX CLASS AT PRESENT    0\n",
              "TOTAL UNITS             0\n",
              "LAND SQUARE FEET        0\n",
              "GROSS SQUARE FEET       0\n",
              "YEAR BUILT              0\n",
              "SALE PRICE              0\n",
              "SALE DATE               0\n",
              "dtype: int64"
            ]
          },
          "metadata": {},
          "execution_count": 83
        }
      ]
    },
    {
      "cell_type": "code",
      "source": [
        "df_3.describe()"
      ],
      "metadata": {
        "colab": {
          "base_uri": "https://localhost:8080/",
          "height": 300
        },
        "id": "N-qSOKH5IOSQ",
        "outputId": "fb86d46d-e222-40ab-baf7-0c2b1f826dd3"
      },
      "id": "N-qSOKH5IOSQ",
      "execution_count": 84,
      "outputs": [
        {
          "output_type": "execute_result",
          "data": {
            "text/plain": [
              "            BOROUGH   TOTAL UNITS  LAND SQUARE FEET  GROSS SQUARE FEET  \\\n",
              "count  29281.000000  29281.000000      2.928100e+04       2.928100e+04   \n",
              "mean       3.534920      3.382262      4.218900e+03       4.606149e+03   \n",
              "std        1.019759     24.596033      3.553716e+04       3.413164e+04   \n",
              "min        1.000000      1.000000      2.000000e+02       1.200000e+02   \n",
              "25%        3.000000      1.000000      2.000000e+03       1.360000e+03   \n",
              "50%        4.000000      2.000000      2.500000e+03       1.872000e+03   \n",
              "75%        4.000000      2.000000      4.000000e+03       2.672000e+03   \n",
              "max        5.000000   2261.000000      4.228300e+06       3.750565e+06   \n",
              "\n",
              "         YEAR BUILT    SALE PRICE  \n",
              "count  29281.000000  2.928100e+04  \n",
              "mean    1940.708753  1.636911e+06  \n",
              "std       30.540755  1.700815e+07  \n",
              "min     1800.000000  1.000000e+00  \n",
              "25%     1920.000000  4.200000e+05  \n",
              "50%     1930.000000  6.200000e+05  \n",
              "75%     1960.000000  9.500000e+05  \n",
              "max     2017.000000  2.210000e+09  "
            ],
            "text/html": [
              "\n",
              "  <div id=\"df-d0f7f77c-c737-4955-95c6-f488952fd87e\">\n",
              "    <div class=\"colab-df-container\">\n",
              "      <div>\n",
              "<style scoped>\n",
              "    .dataframe tbody tr th:only-of-type {\n",
              "        vertical-align: middle;\n",
              "    }\n",
              "\n",
              "    .dataframe tbody tr th {\n",
              "        vertical-align: top;\n",
              "    }\n",
              "\n",
              "    .dataframe thead th {\n",
              "        text-align: right;\n",
              "    }\n",
              "</style>\n",
              "<table border=\"1\" class=\"dataframe\">\n",
              "  <thead>\n",
              "    <tr style=\"text-align: right;\">\n",
              "      <th></th>\n",
              "      <th>BOROUGH</th>\n",
              "      <th>TOTAL UNITS</th>\n",
              "      <th>LAND SQUARE FEET</th>\n",
              "      <th>GROSS SQUARE FEET</th>\n",
              "      <th>YEAR BUILT</th>\n",
              "      <th>SALE PRICE</th>\n",
              "    </tr>\n",
              "  </thead>\n",
              "  <tbody>\n",
              "    <tr>\n",
              "      <th>count</th>\n",
              "      <td>29281.000000</td>\n",
              "      <td>29281.000000</td>\n",
              "      <td>2.928100e+04</td>\n",
              "      <td>2.928100e+04</td>\n",
              "      <td>29281.000000</td>\n",
              "      <td>2.928100e+04</td>\n",
              "    </tr>\n",
              "    <tr>\n",
              "      <th>mean</th>\n",
              "      <td>3.534920</td>\n",
              "      <td>3.382262</td>\n",
              "      <td>4.218900e+03</td>\n",
              "      <td>4.606149e+03</td>\n",
              "      <td>1940.708753</td>\n",
              "      <td>1.636911e+06</td>\n",
              "    </tr>\n",
              "    <tr>\n",
              "      <th>std</th>\n",
              "      <td>1.019759</td>\n",
              "      <td>24.596033</td>\n",
              "      <td>3.553716e+04</td>\n",
              "      <td>3.413164e+04</td>\n",
              "      <td>30.540755</td>\n",
              "      <td>1.700815e+07</td>\n",
              "    </tr>\n",
              "    <tr>\n",
              "      <th>min</th>\n",
              "      <td>1.000000</td>\n",
              "      <td>1.000000</td>\n",
              "      <td>2.000000e+02</td>\n",
              "      <td>1.200000e+02</td>\n",
              "      <td>1800.000000</td>\n",
              "      <td>1.000000e+00</td>\n",
              "    </tr>\n",
              "    <tr>\n",
              "      <th>25%</th>\n",
              "      <td>3.000000</td>\n",
              "      <td>1.000000</td>\n",
              "      <td>2.000000e+03</td>\n",
              "      <td>1.360000e+03</td>\n",
              "      <td>1920.000000</td>\n",
              "      <td>4.200000e+05</td>\n",
              "    </tr>\n",
              "    <tr>\n",
              "      <th>50%</th>\n",
              "      <td>4.000000</td>\n",
              "      <td>2.000000</td>\n",
              "      <td>2.500000e+03</td>\n",
              "      <td>1.872000e+03</td>\n",
              "      <td>1930.000000</td>\n",
              "      <td>6.200000e+05</td>\n",
              "    </tr>\n",
              "    <tr>\n",
              "      <th>75%</th>\n",
              "      <td>4.000000</td>\n",
              "      <td>2.000000</td>\n",
              "      <td>4.000000e+03</td>\n",
              "      <td>2.672000e+03</td>\n",
              "      <td>1960.000000</td>\n",
              "      <td>9.500000e+05</td>\n",
              "    </tr>\n",
              "    <tr>\n",
              "      <th>max</th>\n",
              "      <td>5.000000</td>\n",
              "      <td>2261.000000</td>\n",
              "      <td>4.228300e+06</td>\n",
              "      <td>3.750565e+06</td>\n",
              "      <td>2017.000000</td>\n",
              "      <td>2.210000e+09</td>\n",
              "    </tr>\n",
              "  </tbody>\n",
              "</table>\n",
              "</div>\n",
              "      <button class=\"colab-df-convert\" onclick=\"convertToInteractive('df-d0f7f77c-c737-4955-95c6-f488952fd87e')\"\n",
              "              title=\"Convert this dataframe to an interactive table.\"\n",
              "              style=\"display:none;\">\n",
              "        \n",
              "  <svg xmlns=\"http://www.w3.org/2000/svg\" height=\"24px\"viewBox=\"0 0 24 24\"\n",
              "       width=\"24px\">\n",
              "    <path d=\"M0 0h24v24H0V0z\" fill=\"none\"/>\n",
              "    <path d=\"M18.56 5.44l.94 2.06.94-2.06 2.06-.94-2.06-.94-.94-2.06-.94 2.06-2.06.94zm-11 1L8.5 8.5l.94-2.06 2.06-.94-2.06-.94L8.5 2.5l-.94 2.06-2.06.94zm10 10l.94 2.06.94-2.06 2.06-.94-2.06-.94-.94-2.06-.94 2.06-2.06.94z\"/><path d=\"M17.41 7.96l-1.37-1.37c-.4-.4-.92-.59-1.43-.59-.52 0-1.04.2-1.43.59L10.3 9.45l-7.72 7.72c-.78.78-.78 2.05 0 2.83L4 21.41c.39.39.9.59 1.41.59.51 0 1.02-.2 1.41-.59l7.78-7.78 2.81-2.81c.8-.78.8-2.07 0-2.86zM5.41 20L4 18.59l7.72-7.72 1.47 1.35L5.41 20z\"/>\n",
              "  </svg>\n",
              "      </button>\n",
              "      \n",
              "  <style>\n",
              "    .colab-df-container {\n",
              "      display:flex;\n",
              "      flex-wrap:wrap;\n",
              "      gap: 12px;\n",
              "    }\n",
              "\n",
              "    .colab-df-convert {\n",
              "      background-color: #E8F0FE;\n",
              "      border: none;\n",
              "      border-radius: 50%;\n",
              "      cursor: pointer;\n",
              "      display: none;\n",
              "      fill: #1967D2;\n",
              "      height: 32px;\n",
              "      padding: 0 0 0 0;\n",
              "      width: 32px;\n",
              "    }\n",
              "\n",
              "    .colab-df-convert:hover {\n",
              "      background-color: #E2EBFA;\n",
              "      box-shadow: 0px 1px 2px rgba(60, 64, 67, 0.3), 0px 1px 3px 1px rgba(60, 64, 67, 0.15);\n",
              "      fill: #174EA6;\n",
              "    }\n",
              "\n",
              "    [theme=dark] .colab-df-convert {\n",
              "      background-color: #3B4455;\n",
              "      fill: #D2E3FC;\n",
              "    }\n",
              "\n",
              "    [theme=dark] .colab-df-convert:hover {\n",
              "      background-color: #434B5C;\n",
              "      box-shadow: 0px 1px 3px 1px rgba(0, 0, 0, 0.15);\n",
              "      filter: drop-shadow(0px 1px 2px rgba(0, 0, 0, 0.3));\n",
              "      fill: #FFFFFF;\n",
              "    }\n",
              "  </style>\n",
              "\n",
              "      <script>\n",
              "        const buttonEl =\n",
              "          document.querySelector('#df-d0f7f77c-c737-4955-95c6-f488952fd87e button.colab-df-convert');\n",
              "        buttonEl.style.display =\n",
              "          google.colab.kernel.accessAllowed ? 'block' : 'none';\n",
              "\n",
              "        async function convertToInteractive(key) {\n",
              "          const element = document.querySelector('#df-d0f7f77c-c737-4955-95c6-f488952fd87e');\n",
              "          const dataTable =\n",
              "            await google.colab.kernel.invokeFunction('convertToInteractive',\n",
              "                                                     [key], {});\n",
              "          if (!dataTable) return;\n",
              "\n",
              "          const docLinkHtml = 'Like what you see? Visit the ' +\n",
              "            '<a target=\"_blank\" href=https://colab.research.google.com/notebooks/data_table.ipynb>data table notebook</a>'\n",
              "            + ' to learn more about interactive tables.';\n",
              "          element.innerHTML = '';\n",
              "          dataTable['output_type'] = 'display_data';\n",
              "          await google.colab.output.renderOutput(dataTable, element);\n",
              "          const docLink = document.createElement('div');\n",
              "          docLink.innerHTML = docLinkHtml;\n",
              "          element.appendChild(docLink);\n",
              "        }\n",
              "      </script>\n",
              "    </div>\n",
              "  </div>\n",
              "  "
            ]
          },
          "metadata": {},
          "execution_count": 84
        }
      ]
    },
    {
      "cell_type": "code",
      "source": [
        "#Convert DATE BUILT to datetime drop the original column\n",
        "df_3['DATE BUILT'] = pd.to_datetime(df_3['YEAR BUILT'], format='%Y')\n",
        "df_4=df_3.drop('YEAR BUILT', axis=1)"
      ],
      "metadata": {
        "colab": {
          "base_uri": "https://localhost:8080/"
        },
        "id": "9poqpRBXAvZ0",
        "outputId": "695e7ad8-e79f-4f40-cd1a-99c7cf53e3ce"
      },
      "id": "9poqpRBXAvZ0",
      "execution_count": 85,
      "outputs": [
        {
          "output_type": "stream",
          "name": "stderr",
          "text": [
            "<ipython-input-85-a5640b263530>:2: SettingWithCopyWarning: \n",
            "A value is trying to be set on a copy of a slice from a DataFrame.\n",
            "Try using .loc[row_indexer,col_indexer] = value instead\n",
            "\n",
            "See the caveats in the documentation: https://pandas.pydata.org/pandas-docs/stable/user_guide/indexing.html#returning-a-view-versus-a-copy\n",
            "  df_3['DATE BUILT'] = pd.to_datetime(df_3['YEAR BUILT'], format='%Y')\n"
          ]
        }
      ]
    },
    {
      "cell_type": "code",
      "source": [
        "df_3.dtypes"
      ],
      "metadata": {
        "colab": {
          "base_uri": "https://localhost:8080/"
        },
        "id": "DhdL7Z-2IzMJ",
        "outputId": "59d034a6-9357-4b72-e977-718ce42f355d"
      },
      "id": "DhdL7Z-2IzMJ",
      "execution_count": 86,
      "outputs": [
        {
          "output_type": "execute_result",
          "data": {
            "text/plain": [
              "BOROUGH                          int64\n",
              "TAX CLASS AT PRESENT            object\n",
              "TOTAL UNITS                      int64\n",
              "LAND SQUARE FEET                 int64\n",
              "GROSS SQUARE FEET                int64\n",
              "YEAR BUILT                       int64\n",
              "SALE PRICE                       int64\n",
              "SALE DATE               datetime64[ns]\n",
              "DATE BUILT              datetime64[ns]\n",
              "dtype: object"
            ]
          },
          "metadata": {},
          "execution_count": 86
        }
      ]
    },
    {
      "cell_type": "code",
      "source": [
        "#Reset the index\n",
        "df_4=df_4.reset_index(drop=True)"
      ],
      "metadata": {
        "id": "8_IITLxPJ8e5"
      },
      "id": "8_IITLxPJ8e5",
      "execution_count": 87,
      "outputs": []
    },
    {
      "cell_type": "code",
      "source": [
        "df_4"
      ],
      "metadata": {
        "colab": {
          "base_uri": "https://localhost:8080/",
          "height": 423
        },
        "id": "Wy1XOjRgNfO1",
        "outputId": "023c0f51-d274-483b-9265-fd82d4f0fdb6"
      },
      "id": "Wy1XOjRgNfO1",
      "execution_count": 88,
      "outputs": [
        {
          "output_type": "execute_result",
          "data": {
            "text/plain": [
              "       BOROUGH TAX CLASS AT PRESENT  TOTAL UNITS  LAND SQUARE FEET  \\\n",
              "0            1                   2A            5              1633   \n",
              "1            1                   2B           10              2272   \n",
              "2            1                   2A            6              2369   \n",
              "3            1                   2B            8              1750   \n",
              "4            1                    2           24              4489   \n",
              "...        ...                  ...          ...               ...   \n",
              "29276        5                    1            2              2400   \n",
              "29277        5                    1            2              2498   \n",
              "29278        5                    1            2              4000   \n",
              "29279        5                    4            7            208033   \n",
              "29280        5                    4            1             10796   \n",
              "\n",
              "       GROSS SQUARE FEET  SALE PRICE  SALE DATE DATE BUILT  \n",
              "0                   6440     6625000 2017-07-19 1900-01-01  \n",
              "1                   6794     3936272 2016-09-23 1913-01-01  \n",
              "2                   4615     8000000 2016-11-17 1900-01-01  \n",
              "3                   4226     3192840 2016-09-23 1920-01-01  \n",
              "4                  18523    16232000 2016-11-07 1920-01-01  \n",
              "...                  ...         ...        ...        ...  \n",
              "29276               2575      450000 2016-11-28 1998-01-01  \n",
              "29277               2377      550000 2017-04-21 1998-01-01  \n",
              "29278               1496      460000 2017-07-05 1925-01-01  \n",
              "29279              64117    11693337 2016-12-21 2001-01-01  \n",
              "29280               2400       69300 2016-10-27 2006-01-01  \n",
              "\n",
              "[29281 rows x 8 columns]"
            ],
            "text/html": [
              "\n",
              "  <div id=\"df-053273d5-cc57-4048-a205-96e8a892e8aa\">\n",
              "    <div class=\"colab-df-container\">\n",
              "      <div>\n",
              "<style scoped>\n",
              "    .dataframe tbody tr th:only-of-type {\n",
              "        vertical-align: middle;\n",
              "    }\n",
              "\n",
              "    .dataframe tbody tr th {\n",
              "        vertical-align: top;\n",
              "    }\n",
              "\n",
              "    .dataframe thead th {\n",
              "        text-align: right;\n",
              "    }\n",
              "</style>\n",
              "<table border=\"1\" class=\"dataframe\">\n",
              "  <thead>\n",
              "    <tr style=\"text-align: right;\">\n",
              "      <th></th>\n",
              "      <th>BOROUGH</th>\n",
              "      <th>TAX CLASS AT PRESENT</th>\n",
              "      <th>TOTAL UNITS</th>\n",
              "      <th>LAND SQUARE FEET</th>\n",
              "      <th>GROSS SQUARE FEET</th>\n",
              "      <th>SALE PRICE</th>\n",
              "      <th>SALE DATE</th>\n",
              "      <th>DATE BUILT</th>\n",
              "    </tr>\n",
              "  </thead>\n",
              "  <tbody>\n",
              "    <tr>\n",
              "      <th>0</th>\n",
              "      <td>1</td>\n",
              "      <td>2A</td>\n",
              "      <td>5</td>\n",
              "      <td>1633</td>\n",
              "      <td>6440</td>\n",
              "      <td>6625000</td>\n",
              "      <td>2017-07-19</td>\n",
              "      <td>1900-01-01</td>\n",
              "    </tr>\n",
              "    <tr>\n",
              "      <th>1</th>\n",
              "      <td>1</td>\n",
              "      <td>2B</td>\n",
              "      <td>10</td>\n",
              "      <td>2272</td>\n",
              "      <td>6794</td>\n",
              "      <td>3936272</td>\n",
              "      <td>2016-09-23</td>\n",
              "      <td>1913-01-01</td>\n",
              "    </tr>\n",
              "    <tr>\n",
              "      <th>2</th>\n",
              "      <td>1</td>\n",
              "      <td>2A</td>\n",
              "      <td>6</td>\n",
              "      <td>2369</td>\n",
              "      <td>4615</td>\n",
              "      <td>8000000</td>\n",
              "      <td>2016-11-17</td>\n",
              "      <td>1900-01-01</td>\n",
              "    </tr>\n",
              "    <tr>\n",
              "      <th>3</th>\n",
              "      <td>1</td>\n",
              "      <td>2B</td>\n",
              "      <td>8</td>\n",
              "      <td>1750</td>\n",
              "      <td>4226</td>\n",
              "      <td>3192840</td>\n",
              "      <td>2016-09-23</td>\n",
              "      <td>1920-01-01</td>\n",
              "    </tr>\n",
              "    <tr>\n",
              "      <th>4</th>\n",
              "      <td>1</td>\n",
              "      <td>2</td>\n",
              "      <td>24</td>\n",
              "      <td>4489</td>\n",
              "      <td>18523</td>\n",
              "      <td>16232000</td>\n",
              "      <td>2016-11-07</td>\n",
              "      <td>1920-01-01</td>\n",
              "    </tr>\n",
              "    <tr>\n",
              "      <th>...</th>\n",
              "      <td>...</td>\n",
              "      <td>...</td>\n",
              "      <td>...</td>\n",
              "      <td>...</td>\n",
              "      <td>...</td>\n",
              "      <td>...</td>\n",
              "      <td>...</td>\n",
              "      <td>...</td>\n",
              "    </tr>\n",
              "    <tr>\n",
              "      <th>29276</th>\n",
              "      <td>5</td>\n",
              "      <td>1</td>\n",
              "      <td>2</td>\n",
              "      <td>2400</td>\n",
              "      <td>2575</td>\n",
              "      <td>450000</td>\n",
              "      <td>2016-11-28</td>\n",
              "      <td>1998-01-01</td>\n",
              "    </tr>\n",
              "    <tr>\n",
              "      <th>29277</th>\n",
              "      <td>5</td>\n",
              "      <td>1</td>\n",
              "      <td>2</td>\n",
              "      <td>2498</td>\n",
              "      <td>2377</td>\n",
              "      <td>550000</td>\n",
              "      <td>2017-04-21</td>\n",
              "      <td>1998-01-01</td>\n",
              "    </tr>\n",
              "    <tr>\n",
              "      <th>29278</th>\n",
              "      <td>5</td>\n",
              "      <td>1</td>\n",
              "      <td>2</td>\n",
              "      <td>4000</td>\n",
              "      <td>1496</td>\n",
              "      <td>460000</td>\n",
              "      <td>2017-07-05</td>\n",
              "      <td>1925-01-01</td>\n",
              "    </tr>\n",
              "    <tr>\n",
              "      <th>29279</th>\n",
              "      <td>5</td>\n",
              "      <td>4</td>\n",
              "      <td>7</td>\n",
              "      <td>208033</td>\n",
              "      <td>64117</td>\n",
              "      <td>11693337</td>\n",
              "      <td>2016-12-21</td>\n",
              "      <td>2001-01-01</td>\n",
              "    </tr>\n",
              "    <tr>\n",
              "      <th>29280</th>\n",
              "      <td>5</td>\n",
              "      <td>4</td>\n",
              "      <td>1</td>\n",
              "      <td>10796</td>\n",
              "      <td>2400</td>\n",
              "      <td>69300</td>\n",
              "      <td>2016-10-27</td>\n",
              "      <td>2006-01-01</td>\n",
              "    </tr>\n",
              "  </tbody>\n",
              "</table>\n",
              "<p>29281 rows × 8 columns</p>\n",
              "</div>\n",
              "      <button class=\"colab-df-convert\" onclick=\"convertToInteractive('df-053273d5-cc57-4048-a205-96e8a892e8aa')\"\n",
              "              title=\"Convert this dataframe to an interactive table.\"\n",
              "              style=\"display:none;\">\n",
              "        \n",
              "  <svg xmlns=\"http://www.w3.org/2000/svg\" height=\"24px\"viewBox=\"0 0 24 24\"\n",
              "       width=\"24px\">\n",
              "    <path d=\"M0 0h24v24H0V0z\" fill=\"none\"/>\n",
              "    <path d=\"M18.56 5.44l.94 2.06.94-2.06 2.06-.94-2.06-.94-.94-2.06-.94 2.06-2.06.94zm-11 1L8.5 8.5l.94-2.06 2.06-.94-2.06-.94L8.5 2.5l-.94 2.06-2.06.94zm10 10l.94 2.06.94-2.06 2.06-.94-2.06-.94-.94-2.06-.94 2.06-2.06.94z\"/><path d=\"M17.41 7.96l-1.37-1.37c-.4-.4-.92-.59-1.43-.59-.52 0-1.04.2-1.43.59L10.3 9.45l-7.72 7.72c-.78.78-.78 2.05 0 2.83L4 21.41c.39.39.9.59 1.41.59.51 0 1.02-.2 1.41-.59l7.78-7.78 2.81-2.81c.8-.78.8-2.07 0-2.86zM5.41 20L4 18.59l7.72-7.72 1.47 1.35L5.41 20z\"/>\n",
              "  </svg>\n",
              "      </button>\n",
              "      \n",
              "  <style>\n",
              "    .colab-df-container {\n",
              "      display:flex;\n",
              "      flex-wrap:wrap;\n",
              "      gap: 12px;\n",
              "    }\n",
              "\n",
              "    .colab-df-convert {\n",
              "      background-color: #E8F0FE;\n",
              "      border: none;\n",
              "      border-radius: 50%;\n",
              "      cursor: pointer;\n",
              "      display: none;\n",
              "      fill: #1967D2;\n",
              "      height: 32px;\n",
              "      padding: 0 0 0 0;\n",
              "      width: 32px;\n",
              "    }\n",
              "\n",
              "    .colab-df-convert:hover {\n",
              "      background-color: #E2EBFA;\n",
              "      box-shadow: 0px 1px 2px rgba(60, 64, 67, 0.3), 0px 1px 3px 1px rgba(60, 64, 67, 0.15);\n",
              "      fill: #174EA6;\n",
              "    }\n",
              "\n",
              "    [theme=dark] .colab-df-convert {\n",
              "      background-color: #3B4455;\n",
              "      fill: #D2E3FC;\n",
              "    }\n",
              "\n",
              "    [theme=dark] .colab-df-convert:hover {\n",
              "      background-color: #434B5C;\n",
              "      box-shadow: 0px 1px 3px 1px rgba(0, 0, 0, 0.15);\n",
              "      filter: drop-shadow(0px 1px 2px rgba(0, 0, 0, 0.3));\n",
              "      fill: #FFFFFF;\n",
              "    }\n",
              "  </style>\n",
              "\n",
              "      <script>\n",
              "        const buttonEl =\n",
              "          document.querySelector('#df-053273d5-cc57-4048-a205-96e8a892e8aa button.colab-df-convert');\n",
              "        buttonEl.style.display =\n",
              "          google.colab.kernel.accessAllowed ? 'block' : 'none';\n",
              "\n",
              "        async function convertToInteractive(key) {\n",
              "          const element = document.querySelector('#df-053273d5-cc57-4048-a205-96e8a892e8aa');\n",
              "          const dataTable =\n",
              "            await google.colab.kernel.invokeFunction('convertToInteractive',\n",
              "                                                     [key], {});\n",
              "          if (!dataTable) return;\n",
              "\n",
              "          const docLinkHtml = 'Like what you see? Visit the ' +\n",
              "            '<a target=\"_blank\" href=https://colab.research.google.com/notebooks/data_table.ipynb>data table notebook</a>'\n",
              "            + ' to learn more about interactive tables.';\n",
              "          element.innerHTML = '';\n",
              "          dataTable['output_type'] = 'display_data';\n",
              "          await google.colab.output.renderOutput(dataTable, element);\n",
              "          const docLink = document.createElement('div');\n",
              "          docLink.innerHTML = docLinkHtml;\n",
              "          element.appendChild(docLink);\n",
              "        }\n",
              "      </script>\n",
              "    </div>\n",
              "  </div>\n",
              "  "
            ]
          },
          "metadata": {},
          "execution_count": 88
        }
      ]
    },
    {
      "cell_type": "code",
      "source": [
        "#Find the age of the building in timedelta DAYS and Drop the original 'SALE DATE','DATE BUILT' columns\n",
        "df_4['AGE']=df_4['SALE DATE']-df_4['DATE BUILT']\n",
        "df_5=df_4.drop(['SALE DATE','DATE BUILT'], axis=1)\n",
        "df_5.head()"
      ],
      "metadata": {
        "colab": {
          "base_uri": "https://localhost:8080/",
          "height": 206
        },
        "id": "CWzFxSYRNuHl",
        "outputId": "50ebe168-635d-40a9-dd60-8b506cb881b0"
      },
      "id": "CWzFxSYRNuHl",
      "execution_count": 89,
      "outputs": [
        {
          "output_type": "execute_result",
          "data": {
            "text/plain": [
              "   BOROUGH TAX CLASS AT PRESENT  TOTAL UNITS  LAND SQUARE FEET  \\\n",
              "0        1                   2A            5              1633   \n",
              "1        1                   2B           10              2272   \n",
              "2        1                   2A            6              2369   \n",
              "3        1                   2B            8              1750   \n",
              "4        1                    2           24              4489   \n",
              "\n",
              "   GROSS SQUARE FEET  SALE PRICE        AGE  \n",
              "0               6440     6625000 42933 days  \n",
              "1               6794     3936272 37886 days  \n",
              "2               4615     8000000 42689 days  \n",
              "3               4226     3192840 35330 days  \n",
              "4              18523    16232000 35375 days  "
            ],
            "text/html": [
              "\n",
              "  <div id=\"df-1e38d155-c2e8-4e30-9340-e059802dda13\">\n",
              "    <div class=\"colab-df-container\">\n",
              "      <div>\n",
              "<style scoped>\n",
              "    .dataframe tbody tr th:only-of-type {\n",
              "        vertical-align: middle;\n",
              "    }\n",
              "\n",
              "    .dataframe tbody tr th {\n",
              "        vertical-align: top;\n",
              "    }\n",
              "\n",
              "    .dataframe thead th {\n",
              "        text-align: right;\n",
              "    }\n",
              "</style>\n",
              "<table border=\"1\" class=\"dataframe\">\n",
              "  <thead>\n",
              "    <tr style=\"text-align: right;\">\n",
              "      <th></th>\n",
              "      <th>BOROUGH</th>\n",
              "      <th>TAX CLASS AT PRESENT</th>\n",
              "      <th>TOTAL UNITS</th>\n",
              "      <th>LAND SQUARE FEET</th>\n",
              "      <th>GROSS SQUARE FEET</th>\n",
              "      <th>SALE PRICE</th>\n",
              "      <th>AGE</th>\n",
              "    </tr>\n",
              "  </thead>\n",
              "  <tbody>\n",
              "    <tr>\n",
              "      <th>0</th>\n",
              "      <td>1</td>\n",
              "      <td>2A</td>\n",
              "      <td>5</td>\n",
              "      <td>1633</td>\n",
              "      <td>6440</td>\n",
              "      <td>6625000</td>\n",
              "      <td>42933 days</td>\n",
              "    </tr>\n",
              "    <tr>\n",
              "      <th>1</th>\n",
              "      <td>1</td>\n",
              "      <td>2B</td>\n",
              "      <td>10</td>\n",
              "      <td>2272</td>\n",
              "      <td>6794</td>\n",
              "      <td>3936272</td>\n",
              "      <td>37886 days</td>\n",
              "    </tr>\n",
              "    <tr>\n",
              "      <th>2</th>\n",
              "      <td>1</td>\n",
              "      <td>2A</td>\n",
              "      <td>6</td>\n",
              "      <td>2369</td>\n",
              "      <td>4615</td>\n",
              "      <td>8000000</td>\n",
              "      <td>42689 days</td>\n",
              "    </tr>\n",
              "    <tr>\n",
              "      <th>3</th>\n",
              "      <td>1</td>\n",
              "      <td>2B</td>\n",
              "      <td>8</td>\n",
              "      <td>1750</td>\n",
              "      <td>4226</td>\n",
              "      <td>3192840</td>\n",
              "      <td>35330 days</td>\n",
              "    </tr>\n",
              "    <tr>\n",
              "      <th>4</th>\n",
              "      <td>1</td>\n",
              "      <td>2</td>\n",
              "      <td>24</td>\n",
              "      <td>4489</td>\n",
              "      <td>18523</td>\n",
              "      <td>16232000</td>\n",
              "      <td>35375 days</td>\n",
              "    </tr>\n",
              "  </tbody>\n",
              "</table>\n",
              "</div>\n",
              "      <button class=\"colab-df-convert\" onclick=\"convertToInteractive('df-1e38d155-c2e8-4e30-9340-e059802dda13')\"\n",
              "              title=\"Convert this dataframe to an interactive table.\"\n",
              "              style=\"display:none;\">\n",
              "        \n",
              "  <svg xmlns=\"http://www.w3.org/2000/svg\" height=\"24px\"viewBox=\"0 0 24 24\"\n",
              "       width=\"24px\">\n",
              "    <path d=\"M0 0h24v24H0V0z\" fill=\"none\"/>\n",
              "    <path d=\"M18.56 5.44l.94 2.06.94-2.06 2.06-.94-2.06-.94-.94-2.06-.94 2.06-2.06.94zm-11 1L8.5 8.5l.94-2.06 2.06-.94-2.06-.94L8.5 2.5l-.94 2.06-2.06.94zm10 10l.94 2.06.94-2.06 2.06-.94-2.06-.94-.94-2.06-.94 2.06-2.06.94z\"/><path d=\"M17.41 7.96l-1.37-1.37c-.4-.4-.92-.59-1.43-.59-.52 0-1.04.2-1.43.59L10.3 9.45l-7.72 7.72c-.78.78-.78 2.05 0 2.83L4 21.41c.39.39.9.59 1.41.59.51 0 1.02-.2 1.41-.59l7.78-7.78 2.81-2.81c.8-.78.8-2.07 0-2.86zM5.41 20L4 18.59l7.72-7.72 1.47 1.35L5.41 20z\"/>\n",
              "  </svg>\n",
              "      </button>\n",
              "      \n",
              "  <style>\n",
              "    .colab-df-container {\n",
              "      display:flex;\n",
              "      flex-wrap:wrap;\n",
              "      gap: 12px;\n",
              "    }\n",
              "\n",
              "    .colab-df-convert {\n",
              "      background-color: #E8F0FE;\n",
              "      border: none;\n",
              "      border-radius: 50%;\n",
              "      cursor: pointer;\n",
              "      display: none;\n",
              "      fill: #1967D2;\n",
              "      height: 32px;\n",
              "      padding: 0 0 0 0;\n",
              "      width: 32px;\n",
              "    }\n",
              "\n",
              "    .colab-df-convert:hover {\n",
              "      background-color: #E2EBFA;\n",
              "      box-shadow: 0px 1px 2px rgba(60, 64, 67, 0.3), 0px 1px 3px 1px rgba(60, 64, 67, 0.15);\n",
              "      fill: #174EA6;\n",
              "    }\n",
              "\n",
              "    [theme=dark] .colab-df-convert {\n",
              "      background-color: #3B4455;\n",
              "      fill: #D2E3FC;\n",
              "    }\n",
              "\n",
              "    [theme=dark] .colab-df-convert:hover {\n",
              "      background-color: #434B5C;\n",
              "      box-shadow: 0px 1px 3px 1px rgba(0, 0, 0, 0.15);\n",
              "      filter: drop-shadow(0px 1px 2px rgba(0, 0, 0, 0.3));\n",
              "      fill: #FFFFFF;\n",
              "    }\n",
              "  </style>\n",
              "\n",
              "      <script>\n",
              "        const buttonEl =\n",
              "          document.querySelector('#df-1e38d155-c2e8-4e30-9340-e059802dda13 button.colab-df-convert');\n",
              "        buttonEl.style.display =\n",
              "          google.colab.kernel.accessAllowed ? 'block' : 'none';\n",
              "\n",
              "        async function convertToInteractive(key) {\n",
              "          const element = document.querySelector('#df-1e38d155-c2e8-4e30-9340-e059802dda13');\n",
              "          const dataTable =\n",
              "            await google.colab.kernel.invokeFunction('convertToInteractive',\n",
              "                                                     [key], {});\n",
              "          if (!dataTable) return;\n",
              "\n",
              "          const docLinkHtml = 'Like what you see? Visit the ' +\n",
              "            '<a target=\"_blank\" href=https://colab.research.google.com/notebooks/data_table.ipynb>data table notebook</a>'\n",
              "            + ' to learn more about interactive tables.';\n",
              "          element.innerHTML = '';\n",
              "          dataTable['output_type'] = 'display_data';\n",
              "          await google.colab.output.renderOutput(dataTable, element);\n",
              "          const docLink = document.createElement('div');\n",
              "          docLink.innerHTML = docLinkHtml;\n",
              "          element.appendChild(docLink);\n",
              "        }\n",
              "      </script>\n",
              "    </div>\n",
              "  </div>\n",
              "  "
            ]
          },
          "metadata": {},
          "execution_count": 89
        }
      ]
    },
    {
      "cell_type": "code",
      "source": [
        "df_5.dtypes"
      ],
      "metadata": {
        "colab": {
          "base_uri": "https://localhost:8080/"
        },
        "id": "ZXhdJOFlR1Fk",
        "outputId": "77832a58-7e56-4d68-ca1a-5f17b0244928"
      },
      "id": "ZXhdJOFlR1Fk",
      "execution_count": 90,
      "outputs": [
        {
          "output_type": "execute_result",
          "data": {
            "text/plain": [
              "BOROUGH                           int64\n",
              "TAX CLASS AT PRESENT             object\n",
              "TOTAL UNITS                       int64\n",
              "LAND SQUARE FEET                  int64\n",
              "GROSS SQUARE FEET                 int64\n",
              "SALE PRICE                        int64\n",
              "AGE                     timedelta64[ns]\n",
              "dtype: object"
            ]
          },
          "metadata": {},
          "execution_count": 90
        }
      ]
    },
    {
      "cell_type": "code",
      "source": [
        "#Convert AGE column to str and pick only the numarical value of the days\n",
        "df_5['AGE']=df_5['AGE'].astype('str').str.split().apply(lambda x: int(x[0]))\n",
        "df_5.head()"
      ],
      "metadata": {
        "colab": {
          "base_uri": "https://localhost:8080/",
          "height": 206
        },
        "id": "IMgfFs47Tzzk",
        "outputId": "fa00e6d5-c76a-4ea2-87fe-f8d5e8d9c45e"
      },
      "id": "IMgfFs47Tzzk",
      "execution_count": 91,
      "outputs": [
        {
          "output_type": "execute_result",
          "data": {
            "text/plain": [
              "   BOROUGH TAX CLASS AT PRESENT  TOTAL UNITS  LAND SQUARE FEET  \\\n",
              "0        1                   2A            5              1633   \n",
              "1        1                   2B           10              2272   \n",
              "2        1                   2A            6              2369   \n",
              "3        1                   2B            8              1750   \n",
              "4        1                    2           24              4489   \n",
              "\n",
              "   GROSS SQUARE FEET  SALE PRICE    AGE  \n",
              "0               6440     6625000  42933  \n",
              "1               6794     3936272  37886  \n",
              "2               4615     8000000  42689  \n",
              "3               4226     3192840  35330  \n",
              "4              18523    16232000  35375  "
            ],
            "text/html": [
              "\n",
              "  <div id=\"df-e9fbe24e-3802-4d8e-b67d-aef56b04e0e3\">\n",
              "    <div class=\"colab-df-container\">\n",
              "      <div>\n",
              "<style scoped>\n",
              "    .dataframe tbody tr th:only-of-type {\n",
              "        vertical-align: middle;\n",
              "    }\n",
              "\n",
              "    .dataframe tbody tr th {\n",
              "        vertical-align: top;\n",
              "    }\n",
              "\n",
              "    .dataframe thead th {\n",
              "        text-align: right;\n",
              "    }\n",
              "</style>\n",
              "<table border=\"1\" class=\"dataframe\">\n",
              "  <thead>\n",
              "    <tr style=\"text-align: right;\">\n",
              "      <th></th>\n",
              "      <th>BOROUGH</th>\n",
              "      <th>TAX CLASS AT PRESENT</th>\n",
              "      <th>TOTAL UNITS</th>\n",
              "      <th>LAND SQUARE FEET</th>\n",
              "      <th>GROSS SQUARE FEET</th>\n",
              "      <th>SALE PRICE</th>\n",
              "      <th>AGE</th>\n",
              "    </tr>\n",
              "  </thead>\n",
              "  <tbody>\n",
              "    <tr>\n",
              "      <th>0</th>\n",
              "      <td>1</td>\n",
              "      <td>2A</td>\n",
              "      <td>5</td>\n",
              "      <td>1633</td>\n",
              "      <td>6440</td>\n",
              "      <td>6625000</td>\n",
              "      <td>42933</td>\n",
              "    </tr>\n",
              "    <tr>\n",
              "      <th>1</th>\n",
              "      <td>1</td>\n",
              "      <td>2B</td>\n",
              "      <td>10</td>\n",
              "      <td>2272</td>\n",
              "      <td>6794</td>\n",
              "      <td>3936272</td>\n",
              "      <td>37886</td>\n",
              "    </tr>\n",
              "    <tr>\n",
              "      <th>2</th>\n",
              "      <td>1</td>\n",
              "      <td>2A</td>\n",
              "      <td>6</td>\n",
              "      <td>2369</td>\n",
              "      <td>4615</td>\n",
              "      <td>8000000</td>\n",
              "      <td>42689</td>\n",
              "    </tr>\n",
              "    <tr>\n",
              "      <th>3</th>\n",
              "      <td>1</td>\n",
              "      <td>2B</td>\n",
              "      <td>8</td>\n",
              "      <td>1750</td>\n",
              "      <td>4226</td>\n",
              "      <td>3192840</td>\n",
              "      <td>35330</td>\n",
              "    </tr>\n",
              "    <tr>\n",
              "      <th>4</th>\n",
              "      <td>1</td>\n",
              "      <td>2</td>\n",
              "      <td>24</td>\n",
              "      <td>4489</td>\n",
              "      <td>18523</td>\n",
              "      <td>16232000</td>\n",
              "      <td>35375</td>\n",
              "    </tr>\n",
              "  </tbody>\n",
              "</table>\n",
              "</div>\n",
              "      <button class=\"colab-df-convert\" onclick=\"convertToInteractive('df-e9fbe24e-3802-4d8e-b67d-aef56b04e0e3')\"\n",
              "              title=\"Convert this dataframe to an interactive table.\"\n",
              "              style=\"display:none;\">\n",
              "        \n",
              "  <svg xmlns=\"http://www.w3.org/2000/svg\" height=\"24px\"viewBox=\"0 0 24 24\"\n",
              "       width=\"24px\">\n",
              "    <path d=\"M0 0h24v24H0V0z\" fill=\"none\"/>\n",
              "    <path d=\"M18.56 5.44l.94 2.06.94-2.06 2.06-.94-2.06-.94-.94-2.06-.94 2.06-2.06.94zm-11 1L8.5 8.5l.94-2.06 2.06-.94-2.06-.94L8.5 2.5l-.94 2.06-2.06.94zm10 10l.94 2.06.94-2.06 2.06-.94-2.06-.94-.94-2.06-.94 2.06-2.06.94z\"/><path d=\"M17.41 7.96l-1.37-1.37c-.4-.4-.92-.59-1.43-.59-.52 0-1.04.2-1.43.59L10.3 9.45l-7.72 7.72c-.78.78-.78 2.05 0 2.83L4 21.41c.39.39.9.59 1.41.59.51 0 1.02-.2 1.41-.59l7.78-7.78 2.81-2.81c.8-.78.8-2.07 0-2.86zM5.41 20L4 18.59l7.72-7.72 1.47 1.35L5.41 20z\"/>\n",
              "  </svg>\n",
              "      </button>\n",
              "      \n",
              "  <style>\n",
              "    .colab-df-container {\n",
              "      display:flex;\n",
              "      flex-wrap:wrap;\n",
              "      gap: 12px;\n",
              "    }\n",
              "\n",
              "    .colab-df-convert {\n",
              "      background-color: #E8F0FE;\n",
              "      border: none;\n",
              "      border-radius: 50%;\n",
              "      cursor: pointer;\n",
              "      display: none;\n",
              "      fill: #1967D2;\n",
              "      height: 32px;\n",
              "      padding: 0 0 0 0;\n",
              "      width: 32px;\n",
              "    }\n",
              "\n",
              "    .colab-df-convert:hover {\n",
              "      background-color: #E2EBFA;\n",
              "      box-shadow: 0px 1px 2px rgba(60, 64, 67, 0.3), 0px 1px 3px 1px rgba(60, 64, 67, 0.15);\n",
              "      fill: #174EA6;\n",
              "    }\n",
              "\n",
              "    [theme=dark] .colab-df-convert {\n",
              "      background-color: #3B4455;\n",
              "      fill: #D2E3FC;\n",
              "    }\n",
              "\n",
              "    [theme=dark] .colab-df-convert:hover {\n",
              "      background-color: #434B5C;\n",
              "      box-shadow: 0px 1px 3px 1px rgba(0, 0, 0, 0.15);\n",
              "      filter: drop-shadow(0px 1px 2px rgba(0, 0, 0, 0.3));\n",
              "      fill: #FFFFFF;\n",
              "    }\n",
              "  </style>\n",
              "\n",
              "      <script>\n",
              "        const buttonEl =\n",
              "          document.querySelector('#df-e9fbe24e-3802-4d8e-b67d-aef56b04e0e3 button.colab-df-convert');\n",
              "        buttonEl.style.display =\n",
              "          google.colab.kernel.accessAllowed ? 'block' : 'none';\n",
              "\n",
              "        async function convertToInteractive(key) {\n",
              "          const element = document.querySelector('#df-e9fbe24e-3802-4d8e-b67d-aef56b04e0e3');\n",
              "          const dataTable =\n",
              "            await google.colab.kernel.invokeFunction('convertToInteractive',\n",
              "                                                     [key], {});\n",
              "          if (!dataTable) return;\n",
              "\n",
              "          const docLinkHtml = 'Like what you see? Visit the ' +\n",
              "            '<a target=\"_blank\" href=https://colab.research.google.com/notebooks/data_table.ipynb>data table notebook</a>'\n",
              "            + ' to learn more about interactive tables.';\n",
              "          element.innerHTML = '';\n",
              "          dataTable['output_type'] = 'display_data';\n",
              "          await google.colab.output.renderOutput(dataTable, element);\n",
              "          const docLink = document.createElement('div');\n",
              "          docLink.innerHTML = docLinkHtml;\n",
              "          element.appendChild(docLink);\n",
              "        }\n",
              "      </script>\n",
              "    </div>\n",
              "  </div>\n",
              "  "
            ]
          },
          "metadata": {},
          "execution_count": 91
        }
      ]
    },
    {
      "cell_type": "code",
      "source": [
        "df_5.dtypes"
      ],
      "metadata": {
        "colab": {
          "base_uri": "https://localhost:8080/"
        },
        "id": "UjFMyIphUh-a",
        "outputId": "e1d357fe-c21f-463b-abac-e5ba2235a7fd"
      },
      "id": "UjFMyIphUh-a",
      "execution_count": 92,
      "outputs": [
        {
          "output_type": "execute_result",
          "data": {
            "text/plain": [
              "BOROUGH                  int64\n",
              "TAX CLASS AT PRESENT    object\n",
              "TOTAL UNITS              int64\n",
              "LAND SQUARE FEET         int64\n",
              "GROSS SQUARE FEET        int64\n",
              "SALE PRICE               int64\n",
              "AGE                      int64\n",
              "dtype: object"
            ]
          },
          "metadata": {},
          "execution_count": 92
        }
      ]
    },
    {
      "cell_type": "code",
      "execution_count": 93,
      "id": "c96986a0",
      "metadata": {
        "id": "c96986a0",
        "colab": {
          "base_uri": "https://localhost:8080/"
        },
        "outputId": "174b7d65-ec62-45d1-8e8b-86b1089d203b"
      },
      "outputs": [
        {
          "output_type": "execute_result",
          "data": {
            "text/plain": [
              "1     25454\n",
              "4      1436\n",
              "2A     1291\n",
              "2       690\n",
              "2B      409\n",
              "2C        1\n",
              "Name: TAX CLASS AT PRESENT, dtype: int64"
            ]
          },
          "metadata": {},
          "execution_count": 93
        }
      ],
      "source": [
        "#ceheck for the different types of TAX codes\n",
        "df_5['TAX CLASS AT PRESENT'].value_counts()"
      ]
    },
    {
      "cell_type": "code",
      "source": [
        "#import preprocessing classes ('OneHotEncoder' and  'MinMaxScaler') from sklearn.\n",
        "from sklearn.preprocessing import OneHotEncoder, MinMaxScaler"
      ],
      "metadata": {
        "id": "Ow7MnGWKYgmd"
      },
      "id": "Ow7MnGWKYgmd",
      "execution_count": 94,
      "outputs": []
    },
    {
      "cell_type": "code",
      "source": [
        "#Scale the numerical columns  \n",
        "cols_to_scale=['TOTAL UNITS', 'LAND SQUARE FEET', 'GROSS SQUARE FEET', 'SALE PRICE', 'AGE']\n",
        "scaler = MinMaxScaler()\n",
        "df_5[cols_to_scale] = scaler.fit_transform(df_5[cols_to_scale])\n",
        "df_5.head()"
      ],
      "metadata": {
        "colab": {
          "base_uri": "https://localhost:8080/",
          "height": 206
        },
        "id": "27P-r_PjYjgV",
        "outputId": "542e395e-0ac7-42dd-9162-a38af1e14807"
      },
      "id": "27P-r_PjYjgV",
      "execution_count": 95,
      "outputs": [
        {
          "output_type": "execute_result",
          "data": {
            "text/plain": [
              "   BOROUGH TAX CLASS AT PRESENT  TOTAL UNITS  LAND SQUARE FEET  \\\n",
              "0        1                   2A     0.001770          0.000339   \n",
              "1        1                   2B     0.003982          0.000490   \n",
              "2        1                   2A     0.002212          0.000513   \n",
              "3        1                   2B     0.003097          0.000367   \n",
              "4        1                    2     0.010177          0.001014   \n",
              "\n",
              "   GROSS SQUARE FEET  SALE PRICE       AGE  \n",
              "0           0.001685    0.002998  0.539546  \n",
              "1           0.001780    0.001781  0.475810  \n",
              "2           0.001199    0.003620  0.536464  \n",
              "3           0.001095    0.001445  0.443532  \n",
              "4           0.004907    0.007345  0.444101  "
            ],
            "text/html": [
              "\n",
              "  <div id=\"df-e1ce8c2f-5c1a-4815-8a26-92835425be0e\">\n",
              "    <div class=\"colab-df-container\">\n",
              "      <div>\n",
              "<style scoped>\n",
              "    .dataframe tbody tr th:only-of-type {\n",
              "        vertical-align: middle;\n",
              "    }\n",
              "\n",
              "    .dataframe tbody tr th {\n",
              "        vertical-align: top;\n",
              "    }\n",
              "\n",
              "    .dataframe thead th {\n",
              "        text-align: right;\n",
              "    }\n",
              "</style>\n",
              "<table border=\"1\" class=\"dataframe\">\n",
              "  <thead>\n",
              "    <tr style=\"text-align: right;\">\n",
              "      <th></th>\n",
              "      <th>BOROUGH</th>\n",
              "      <th>TAX CLASS AT PRESENT</th>\n",
              "      <th>TOTAL UNITS</th>\n",
              "      <th>LAND SQUARE FEET</th>\n",
              "      <th>GROSS SQUARE FEET</th>\n",
              "      <th>SALE PRICE</th>\n",
              "      <th>AGE</th>\n",
              "    </tr>\n",
              "  </thead>\n",
              "  <tbody>\n",
              "    <tr>\n",
              "      <th>0</th>\n",
              "      <td>1</td>\n",
              "      <td>2A</td>\n",
              "      <td>0.001770</td>\n",
              "      <td>0.000339</td>\n",
              "      <td>0.001685</td>\n",
              "      <td>0.002998</td>\n",
              "      <td>0.539546</td>\n",
              "    </tr>\n",
              "    <tr>\n",
              "      <th>1</th>\n",
              "      <td>1</td>\n",
              "      <td>2B</td>\n",
              "      <td>0.003982</td>\n",
              "      <td>0.000490</td>\n",
              "      <td>0.001780</td>\n",
              "      <td>0.001781</td>\n",
              "      <td>0.475810</td>\n",
              "    </tr>\n",
              "    <tr>\n",
              "      <th>2</th>\n",
              "      <td>1</td>\n",
              "      <td>2A</td>\n",
              "      <td>0.002212</td>\n",
              "      <td>0.000513</td>\n",
              "      <td>0.001199</td>\n",
              "      <td>0.003620</td>\n",
              "      <td>0.536464</td>\n",
              "    </tr>\n",
              "    <tr>\n",
              "      <th>3</th>\n",
              "      <td>1</td>\n",
              "      <td>2B</td>\n",
              "      <td>0.003097</td>\n",
              "      <td>0.000367</td>\n",
              "      <td>0.001095</td>\n",
              "      <td>0.001445</td>\n",
              "      <td>0.443532</td>\n",
              "    </tr>\n",
              "    <tr>\n",
              "      <th>4</th>\n",
              "      <td>1</td>\n",
              "      <td>2</td>\n",
              "      <td>0.010177</td>\n",
              "      <td>0.001014</td>\n",
              "      <td>0.004907</td>\n",
              "      <td>0.007345</td>\n",
              "      <td>0.444101</td>\n",
              "    </tr>\n",
              "  </tbody>\n",
              "</table>\n",
              "</div>\n",
              "      <button class=\"colab-df-convert\" onclick=\"convertToInteractive('df-e1ce8c2f-5c1a-4815-8a26-92835425be0e')\"\n",
              "              title=\"Convert this dataframe to an interactive table.\"\n",
              "              style=\"display:none;\">\n",
              "        \n",
              "  <svg xmlns=\"http://www.w3.org/2000/svg\" height=\"24px\"viewBox=\"0 0 24 24\"\n",
              "       width=\"24px\">\n",
              "    <path d=\"M0 0h24v24H0V0z\" fill=\"none\"/>\n",
              "    <path d=\"M18.56 5.44l.94 2.06.94-2.06 2.06-.94-2.06-.94-.94-2.06-.94 2.06-2.06.94zm-11 1L8.5 8.5l.94-2.06 2.06-.94-2.06-.94L8.5 2.5l-.94 2.06-2.06.94zm10 10l.94 2.06.94-2.06 2.06-.94-2.06-.94-.94-2.06-.94 2.06-2.06.94z\"/><path d=\"M17.41 7.96l-1.37-1.37c-.4-.4-.92-.59-1.43-.59-.52 0-1.04.2-1.43.59L10.3 9.45l-7.72 7.72c-.78.78-.78 2.05 0 2.83L4 21.41c.39.39.9.59 1.41.59.51 0 1.02-.2 1.41-.59l7.78-7.78 2.81-2.81c.8-.78.8-2.07 0-2.86zM5.41 20L4 18.59l7.72-7.72 1.47 1.35L5.41 20z\"/>\n",
              "  </svg>\n",
              "      </button>\n",
              "      \n",
              "  <style>\n",
              "    .colab-df-container {\n",
              "      display:flex;\n",
              "      flex-wrap:wrap;\n",
              "      gap: 12px;\n",
              "    }\n",
              "\n",
              "    .colab-df-convert {\n",
              "      background-color: #E8F0FE;\n",
              "      border: none;\n",
              "      border-radius: 50%;\n",
              "      cursor: pointer;\n",
              "      display: none;\n",
              "      fill: #1967D2;\n",
              "      height: 32px;\n",
              "      padding: 0 0 0 0;\n",
              "      width: 32px;\n",
              "    }\n",
              "\n",
              "    .colab-df-convert:hover {\n",
              "      background-color: #E2EBFA;\n",
              "      box-shadow: 0px 1px 2px rgba(60, 64, 67, 0.3), 0px 1px 3px 1px rgba(60, 64, 67, 0.15);\n",
              "      fill: #174EA6;\n",
              "    }\n",
              "\n",
              "    [theme=dark] .colab-df-convert {\n",
              "      background-color: #3B4455;\n",
              "      fill: #D2E3FC;\n",
              "    }\n",
              "\n",
              "    [theme=dark] .colab-df-convert:hover {\n",
              "      background-color: #434B5C;\n",
              "      box-shadow: 0px 1px 3px 1px rgba(0, 0, 0, 0.15);\n",
              "      filter: drop-shadow(0px 1px 2px rgba(0, 0, 0, 0.3));\n",
              "      fill: #FFFFFF;\n",
              "    }\n",
              "  </style>\n",
              "\n",
              "      <script>\n",
              "        const buttonEl =\n",
              "          document.querySelector('#df-e1ce8c2f-5c1a-4815-8a26-92835425be0e button.colab-df-convert');\n",
              "        buttonEl.style.display =\n",
              "          google.colab.kernel.accessAllowed ? 'block' : 'none';\n",
              "\n",
              "        async function convertToInteractive(key) {\n",
              "          const element = document.querySelector('#df-e1ce8c2f-5c1a-4815-8a26-92835425be0e');\n",
              "          const dataTable =\n",
              "            await google.colab.kernel.invokeFunction('convertToInteractive',\n",
              "                                                     [key], {});\n",
              "          if (!dataTable) return;\n",
              "\n",
              "          const docLinkHtml = 'Like what you see? Visit the ' +\n",
              "            '<a target=\"_blank\" href=https://colab.research.google.com/notebooks/data_table.ipynb>data table notebook</a>'\n",
              "            + ' to learn more about interactive tables.';\n",
              "          element.innerHTML = '';\n",
              "          dataTable['output_type'] = 'display_data';\n",
              "          await google.colab.output.renderOutput(dataTable, element);\n",
              "          const docLink = document.createElement('div');\n",
              "          docLink.innerHTML = docLinkHtml;\n",
              "          element.appendChild(docLink);\n",
              "        }\n",
              "      </script>\n",
              "    </div>\n",
              "  </div>\n",
              "  "
            ]
          },
          "metadata": {},
          "execution_count": 95
        }
      ]
    },
    {
      "cell_type": "code",
      "source": [
        "df_5.plot(x='BOROUGH', y='SALE PRICE', kind='scatter')\n",
        "plt.show()"
      ],
      "metadata": {
        "colab": {
          "base_uri": "https://localhost:8080/",
          "height": 279
        },
        "id": "B3UBb8I0b_Mh",
        "outputId": "4e9976a4-4b8f-4e1b-b948-6ccd4e9c964d"
      },
      "id": "B3UBb8I0b_Mh",
      "execution_count": 96,
      "outputs": [
        {
          "output_type": "display_data",
          "data": {
            "text/plain": [
              "<Figure size 432x288 with 1 Axes>"
            ],
            "image/png": "[encoded data removed]"
          },
          "metadata": {
            "needs_background": "light"
          }
        }
      ]
    },
    {
      "cell_type": "code",
      "source": [
        "df_5.plot(x='TAX CLASS AT PRESENT', y='SALE PRICE', kind='scatter')\n",
        "plt.show()"
      ],
      "metadata": {
        "colab": {
          "base_uri": "https://localhost:8080/",
          "height": 279
        },
        "id": "pT6a_Y4LcFZy",
        "outputId": "6193c22f-ac70-4573-ea19-26a58b172f96"
      },
      "id": "pT6a_Y4LcFZy",
      "execution_count": 97,
      "outputs": [
        {
          "output_type": "display_data",
          "data": {
            "text/plain": [
              "<Figure size 432x288 with 1 Axes>"
            ],
            "image/png": "[encoded data removed]"
          },
          "metadata": {
            "needs_background": "light"
          }
        }
      ]
    },
    {
      "cell_type": "code",
      "source": [
        "df_5.plot(x='LAND SQUARE FEET', y='SALE PRICE', kind='scatter')\n",
        "plt.show()"
      ],
      "metadata": {
        "colab": {
          "base_uri": "https://localhost:8080/",
          "height": 279
        },
        "id": "7T64rpJmcN1G",
        "outputId": "66593ebe-15cc-430a-b009-608beef9cca9"
      },
      "id": "7T64rpJmcN1G",
      "execution_count": 98,
      "outputs": [
        {
          "output_type": "display_data",
          "data": {
            "text/plain": [
              "<Figure size 432x288 with 1 Axes>"
            ],
            "image/png": "[encoded data removed]"
          },
          "metadata": {
            "needs_background": "light"
          }
        }
      ]
    },
    {
      "cell_type": "code",
      "source": [
        "df_5.plot(x='GROSS SQUARE FEET', y='SALE PRICE', kind='scatter')\n",
        "plt.show()"
      ],
      "metadata": {
        "colab": {
          "base_uri": "https://localhost:8080/",
          "height": 279
        },
        "id": "SgaFo6hacPGy",
        "outputId": "11a1939d-0d9c-4f03-a3eb-7c9e2cf33a1c"
      },
      "id": "SgaFo6hacPGy",
      "execution_count": 99,
      "outputs": [
        {
          "output_type": "display_data",
          "data": {
            "text/plain": [
              "<Figure size 432x288 with 1 Axes>"
            ],
            "image/png": "[encoded data removed]"
          },
          "metadata": {
            "needs_background": "light"
          }
        }
      ]
    },
    {
      "cell_type": "code",
      "source": [
        "df_5.plot(x='TOTAL UNITS', y='SALE PRICE', kind='scatter')\n",
        "plt.show()"
      ],
      "metadata": {
        "colab": {
          "base_uri": "https://localhost:8080/",
          "height": 279
        },
        "id": "gJagdMP2cTLM",
        "outputId": "9e9933f8-4b78-4db1-89f6-fc446994bc31"
      },
      "id": "gJagdMP2cTLM",
      "execution_count": 100,
      "outputs": [
        {
          "output_type": "display_data",
          "data": {
            "text/plain": [
              "<Figure size 432x288 with 1 Axes>"
            ],
            "image/png": "[encoded data removed]"
          },
          "metadata": {
            "needs_background": "light"
          }
        }
      ]
    },
    {
      "cell_type": "code",
      "source": [
        "df_5.plot(x='AGE', y='SALE PRICE', kind='scatter')\n",
        "plt.show()"
      ],
      "metadata": {
        "colab": {
          "base_uri": "https://localhost:8080/",
          "height": 279
        },
        "id": "lnZZCxRicX2b",
        "outputId": "d1c4f8da-78dc-41b2-f121-9e23c6552c13"
      },
      "id": "lnZZCxRicX2b",
      "execution_count": 101,
      "outputs": [
        {
          "output_type": "display_data",
          "data": {
            "text/plain": [
              "<Figure size 432x288 with 1 Axes>"
            ],
            "image/png": "[encoded data removed]"
          },
          "metadata": {
            "needs_background": "light"
          }
        }
      ]
    },
    {
      "cell_type": "code",
      "source": [
        "#Use OneHotEncoder to encode categorical columns\n",
        "encoder = OneHotEncoder()\n",
        "cols_to_onehot=df_5[['BOROUGH','TAX CLASS AT PRESENT']]\n",
        "onehot_cols = encoder.fit_transform(cols_to_onehot)"
      ],
      "metadata": {
        "id": "y3uX79oVtlLr"
      },
      "id": "y3uX79oVtlLr",
      "execution_count": 102,
      "outputs": []
    },
    {
      "cell_type": "code",
      "source": [
        "#Ccrate a pandas data frame from scarse matrix \n",
        "onehot_df = pd.DataFrame(onehot_cols.toarray(), columns=encoder.get_feature_names(['B', 'TAX']))\n",
        "onehot_df.head()"
      ],
      "metadata": {
        "colab": {
          "base_uri": "https://localhost:8080/",
          "height": 262
        },
        "id": "8_q4ROXp0lSV",
        "outputId": "4aa49429-9839-49f8-a2e0-f5a5f8b9ce9e"
      },
      "id": "8_q4ROXp0lSV",
      "execution_count": 103,
      "outputs": [
        {
          "output_type": "stream",
          "name": "stderr",
          "text": [
            "/usr/local/lib/python3.8/dist-packages/sklearn/utils/deprecation.py:87: FutureWarning: Function get_feature_names is deprecated; get_feature_names is deprecated in 1.0 and will be removed in 1.2. Please use get_feature_names_out instead.\n",
            "  warnings.warn(msg, category=FutureWarning)\n"
          ]
        },
        {
          "output_type": "execute_result",
          "data": {
            "text/plain": [
              "   B_1  B_2  B_3  B_4  B_5  TAX_1  TAX_2  TAX_2A  TAX_2B  TAX_2C  TAX_4\n",
              "0  1.0  0.0  0.0  0.0  0.0    0.0    0.0     1.0     0.0     0.0    0.0\n",
              "1  1.0  0.0  0.0  0.0  0.0    0.0    0.0     0.0     1.0     0.0    0.0\n",
              "2  1.0  0.0  0.0  0.0  0.0    0.0    0.0     1.0     0.0     0.0    0.0\n",
              "3  1.0  0.0  0.0  0.0  0.0    0.0    0.0     0.0     1.0     0.0    0.0\n",
              "4  1.0  0.0  0.0  0.0  0.0    0.0    1.0     0.0     0.0     0.0    0.0"
            ],
            "text/html": [
              "\n",
              "  <div id=\"df-e04be55d-ec8d-422b-b911-7780ed6f9084\">\n",
              "    <div class=\"colab-df-container\">\n",
              "      <div>\n",
              "<style scoped>\n",
              "    .dataframe tbody tr th:only-of-type {\n",
              "        vertical-align: middle;\n",
              "    }\n",
              "\n",
              "    .dataframe tbody tr th {\n",
              "        vertical-align: top;\n",
              "    }\n",
              "\n",
              "    .dataframe thead th {\n",
              "        text-align: right;\n",
              "    }\n",
              "</style>\n",
              "<table border=\"1\" class=\"dataframe\">\n",
              "  <thead>\n",
              "    <tr style=\"text-align: right;\">\n",
              "      <th></th>\n",
              "      <th>B_1</th>\n",
              "      <th>B_2</th>\n",
              "      <th>B_3</th>\n",
              "      <th>B_4</th>\n",
              "      <th>B_5</th>\n",
              "      <th>TAX_1</th>\n",
              "      <th>TAX_2</th>\n",
              "      <th>TAX_2A</th>\n",
              "      <th>TAX_2B</th>\n",
              "      <th>TAX_2C</th>\n",
              "      <th>TAX_4</th>\n",
              "    </tr>\n",
              "  </thead>\n",
              "  <tbody>\n",
              "    <tr>\n",
              "      <th>0</th>\n",
              "      <td>1.0</td>\n",
              "      <td>0.0</td>\n",
              "      <td>0.0</td>\n",
              "      <td>0.0</td>\n",
              "      <td>0.0</td>\n",
              "      <td>0.0</td>\n",
              "      <td>0.0</td>\n",
              "      <td>1.0</td>\n",
              "      <td>0.0</td>\n",
              "      <td>0.0</td>\n",
              "      <td>0.0</td>\n",
              "    </tr>\n",
              "    <tr>\n",
              "      <th>1</th>\n",
              "      <td>1.0</td>\n",
              "      <td>0.0</td>\n",
              "      <td>0.0</td>\n",
              "      <td>0.0</td>\n",
              "      <td>0.0</td>\n",
              "      <td>0.0</td>\n",
              "      <td>0.0</td>\n",
              "      <td>0.0</td>\n",
              "      <td>1.0</td>\n",
              "      <td>0.0</td>\n",
              "      <td>0.0</td>\n",
              "    </tr>\n",
              "    <tr>\n",
              "      <th>2</th>\n",
              "      <td>1.0</td>\n",
              "      <td>0.0</td>\n",
              "      <td>0.0</td>\n",
              "      <td>0.0</td>\n",
              "      <td>0.0</td>\n",
              "      <td>0.0</td>\n",
              "      <td>0.0</td>\n",
              "      <td>1.0</td>\n",
              "      <td>0.0</td>\n",
              "      <td>0.0</td>\n",
              "      <td>0.0</td>\n",
              "    </tr>\n",
              "    <tr>\n",
              "      <th>3</th>\n",
              "      <td>1.0</td>\n",
              "      <td>0.0</td>\n",
              "      <td>0.0</td>\n",
              "      <td>0.0</td>\n",
              "      <td>0.0</td>\n",
              "      <td>0.0</td>\n",
              "      <td>0.0</td>\n",
              "      <td>0.0</td>\n",
              "      <td>1.0</td>\n",
              "      <td>0.0</td>\n",
              "      <td>0.0</td>\n",
              "    </tr>\n",
              "    <tr>\n",
              "      <th>4</th>\n",
              "      <td>1.0</td>\n",
              "      <td>0.0</td>\n",
              "      <td>0.0</td>\n",
              "      <td>0.0</td>\n",
              "      <td>0.0</td>\n",
              "      <td>0.0</td>\n",
              "      <td>1.0</td>\n",
              "      <td>0.0</td>\n",
              "      <td>0.0</td>\n",
              "      <td>0.0</td>\n",
              "      <td>0.0</td>\n",
              "    </tr>\n",
              "  </tbody>\n",
              "</table>\n",
              "</div>\n",
              "      <button class=\"colab-df-convert\" onclick=\"convertToInteractive('df-e04be55d-ec8d-422b-b911-7780ed6f9084')\"\n",
              "              title=\"Convert this dataframe to an interactive table.\"\n",
              "              style=\"display:none;\">\n",
              "        \n",
              "  <svg xmlns=\"http://www.w3.org/2000/svg\" height=\"24px\"viewBox=\"0 0 24 24\"\n",
              "       width=\"24px\">\n",
              "    <path d=\"M0 0h24v24H0V0z\" fill=\"none\"/>\n",
              "    <path d=\"M18.56 5.44l.94 2.06.94-2.06 2.06-.94-2.06-.94-.94-2.06-.94 2.06-2.06.94zm-11 1L8.5 8.5l.94-2.06 2.06-.94-2.06-.94L8.5 2.5l-.94 2.06-2.06.94zm10 10l.94 2.06.94-2.06 2.06-.94-2.06-.94-.94-2.06-.94 2.06-2.06.94z\"/><path d=\"M17.41 7.96l-1.37-1.37c-.4-.4-.92-.59-1.43-.59-.52 0-1.04.2-1.43.59L10.3 9.45l-7.72 7.72c-.78.78-.78 2.05 0 2.83L4 21.41c.39.39.9.59 1.41.59.51 0 1.02-.2 1.41-.59l7.78-7.78 2.81-2.81c.8-.78.8-2.07 0-2.86zM5.41 20L4 18.59l7.72-7.72 1.47 1.35L5.41 20z\"/>\n",
              "  </svg>\n",
              "      </button>\n",
              "      \n",
              "  <style>\n",
              "    .colab-df-container {\n",
              "      display:flex;\n",
              "      flex-wrap:wrap;\n",
              "      gap: 12px;\n",
              "    }\n",
              "\n",
              "    .colab-df-convert {\n",
              "      background-color: #E8F0FE;\n",
              "      border: none;\n",
              "      border-radius: 50%;\n",
              "      cursor: pointer;\n",
              "      display: none;\n",
              "      fill: #1967D2;\n",
              "      height: 32px;\n",
              "      padding: 0 0 0 0;\n",
              "      width: 32px;\n",
              "    }\n",
              "\n",
              "    .colab-df-convert:hover {\n",
              "      background-color: #E2EBFA;\n",
              "      box-shadow: 0px 1px 2px rgba(60, 64, 67, 0.3), 0px 1px 3px 1px rgba(60, 64, 67, 0.15);\n",
              "      fill: #174EA6;\n",
              "    }\n",
              "\n",
              "    [theme=dark] .colab-df-convert {\n",
              "      background-color: #3B4455;\n",
              "      fill: #D2E3FC;\n",
              "    }\n",
              "\n",
              "    [theme=dark] .colab-df-convert:hover {\n",
              "      background-color: #434B5C;\n",
              "      box-shadow: 0px 1px 3px 1px rgba(0, 0, 0, 0.15);\n",
              "      filter: drop-shadow(0px 1px 2px rgba(0, 0, 0, 0.3));\n",
              "      fill: #FFFFFF;\n",
              "    }\n",
              "  </style>\n",
              "\n",
              "      <script>\n",
              "        const buttonEl =\n",
              "          document.querySelector('#df-e04be55d-ec8d-422b-b911-7780ed6f9084 button.colab-df-convert');\n",
              "        buttonEl.style.display =\n",
              "          google.colab.kernel.accessAllowed ? 'block' : 'none';\n",
              "\n",
              "        async function convertToInteractive(key) {\n",
              "          const element = document.querySelector('#df-e04be55d-ec8d-422b-b911-7780ed6f9084');\n",
              "          const dataTable =\n",
              "            await google.colab.kernel.invokeFunction('convertToInteractive',\n",
              "                                                     [key], {});\n",
              "          if (!dataTable) return;\n",
              "\n",
              "          const docLinkHtml = 'Like what you see? Visit the ' +\n",
              "            '<a target=\"_blank\" href=https://colab.research.google.com/notebooks/data_table.ipynb>data table notebook</a>'\n",
              "            + ' to learn more about interactive tables.';\n",
              "          element.innerHTML = '';\n",
              "          dataTable['output_type'] = 'display_data';\n",
              "          await google.colab.output.renderOutput(dataTable, element);\n",
              "          const docLink = document.createElement('div');\n",
              "          docLink.innerHTML = docLinkHtml;\n",
              "          element.appendChild(docLink);\n",
              "        }\n",
              "      </script>\n",
              "    </div>\n",
              "  </div>\n",
              "  "
            ]
          },
          "metadata": {},
          "execution_count": 103
        }
      ]
    },
    {
      "cell_type": "code",
      "source": [
        "#Concatinate encoded dataframe with the origial data frame and remove the original column\n",
        "df_6 = pd.concat([df_5, onehot_df], axis=1)\n",
        "df_6.drop(['BOROUGH','TAX CLASS AT PRESENT'], axis=1, inplace =True)\n",
        "df_6.head()"
      ],
      "metadata": {
        "colab": {
          "base_uri": "https://localhost:8080/",
          "height": 206
        },
        "id": "lNnwZi0P1GTC",
        "outputId": "1819809b-50c9-4e16-8a6d-cc5d57f8597b"
      },
      "id": "lNnwZi0P1GTC",
      "execution_count": 104,
      "outputs": [
        {
          "output_type": "execute_result",
          "data": {
            "text/plain": [
              "   TOTAL UNITS  LAND SQUARE FEET  GROSS SQUARE FEET  SALE PRICE       AGE  \\\n",
              "0     0.001770          0.000339           0.001685    0.002998  0.539546   \n",
              "1     0.003982          0.000490           0.001780    0.001781  0.475810   \n",
              "2     0.002212          0.000513           0.001199    0.003620  0.536464   \n",
              "3     0.003097          0.000367           0.001095    0.001445  0.443532   \n",
              "4     0.010177          0.001014           0.004907    0.007345  0.444101   \n",
              "\n",
              "   B_1  B_2  B_3  B_4  B_5  TAX_1  TAX_2  TAX_2A  TAX_2B  TAX_2C  TAX_4  \n",
              "0  1.0  0.0  0.0  0.0  0.0    0.0    0.0     1.0     0.0     0.0    0.0  \n",
              "1  1.0  0.0  0.0  0.0  0.0    0.0    0.0     0.0     1.0     0.0    0.0  \n",
              "2  1.0  0.0  0.0  0.0  0.0    0.0    0.0     1.0     0.0     0.0    0.0  \n",
              "3  1.0  0.0  0.0  0.0  0.0    0.0    0.0     0.0     1.0     0.0    0.0  \n",
              "4  1.0  0.0  0.0  0.0  0.0    0.0    1.0     0.0     0.0     0.0    0.0  "
            ],
            "text/html": [
              "\n",
              "  <div id=\"df-d73cb673-7b97-4b7e-8ae2-3f3d0132d8fd\">\n",
              "    <div class=\"colab-df-container\">\n",
              "      <div>\n",
              "<style scoped>\n",
              "    .dataframe tbody tr th:only-of-type {\n",
              "        vertical-align: middle;\n",
              "    }\n",
              "\n",
              "    .dataframe tbody tr th {\n",
              "        vertical-align: top;\n",
              "    }\n",
              "\n",
              "    .dataframe thead th {\n",
              "        text-align: right;\n",
              "    }\n",
              "</style>\n",
              "<table border=\"1\" class=\"dataframe\">\n",
              "  <thead>\n",
              "    <tr style=\"text-align: right;\">\n",
              "      <th></th>\n",
              "      <th>TOTAL UNITS</th>\n",
              "      <th>LAND SQUARE FEET</th>\n",
              "      <th>GROSS SQUARE FEET</th>\n",
              "      <th>SALE PRICE</th>\n",
              "      <th>AGE</th>\n",
              "      <th>B_1</th>\n",
              "      <th>B_2</th>\n",
              "      <th>B_3</th>\n",
              "      <th>B_4</th>\n",
              "      <th>B_5</th>\n",
              "      <th>TAX_1</th>\n",
              "      <th>TAX_2</th>\n",
              "      <th>TAX_2A</th>\n",
              "      <th>TAX_2B</th>\n",
              "      <th>TAX_2C</th>\n",
              "      <th>TAX_4</th>\n",
              "    </tr>\n",
              "  </thead>\n",
              "  <tbody>\n",
              "    <tr>\n",
              "      <th>0</th>\n",
              "      <td>0.001770</td>\n",
              "      <td>0.000339</td>\n",
              "      <td>0.001685</td>\n",
              "      <td>0.002998</td>\n",
              "      <td>0.539546</td>\n",
              "      <td>1.0</td>\n",
              "      <td>0.0</td>\n",
              "      <td>0.0</td>\n",
              "      <td>0.0</td>\n",
              "      <td>0.0</td>\n",
              "      <td>0.0</td>\n",
              "      <td>0.0</td>\n",
              "      <td>1.0</td>\n",
              "      <td>0.0</td>\n",
              "      <td>0.0</td>\n",
              "      <td>0.0</td>\n",
              "    </tr>\n",
              "    <tr>\n",
              "      <th>1</th>\n",
              "      <td>0.003982</td>\n",
              "      <td>0.000490</td>\n",
              "      <td>0.001780</td>\n",
              "      <td>0.001781</td>\n",
              "      <td>0.475810</td>\n",
              "      <td>1.0</td>\n",
              "      <td>0.0</td>\n",
              "      <td>0.0</td>\n",
              "      <td>0.0</td>\n",
              "      <td>0.0</td>\n",
              "      <td>0.0</td>\n",
              "      <td>0.0</td>\n",
              "      <td>0.0</td>\n",
              "      <td>1.0</td>\n",
              "      <td>0.0</td>\n",
              "      <td>0.0</td>\n",
              "    </tr>\n",
              "    <tr>\n",
              "      <th>2</th>\n",
              "      <td>0.002212</td>\n",
              "      <td>0.000513</td>\n",
              "      <td>0.001199</td>\n",
              "      <td>0.003620</td>\n",
              "      <td>0.536464</td>\n",
              "      <td>1.0</td>\n",
              "      <td>0.0</td>\n",
              "      <td>0.0</td>\n",
              "      <td>0.0</td>\n",
              "      <td>0.0</td>\n",
              "      <td>0.0</td>\n",
              "      <td>0.0</td>\n",
              "      <td>1.0</td>\n",
              "      <td>0.0</td>\n",
              "      <td>0.0</td>\n",
              "      <td>0.0</td>\n",
              "    </tr>\n",
              "    <tr>\n",
              "      <th>3</th>\n",
              "      <td>0.003097</td>\n",
              "      <td>0.000367</td>\n",
              "      <td>0.001095</td>\n",
              "      <td>0.001445</td>\n",
              "      <td>0.443532</td>\n",
              "      <td>1.0</td>\n",
              "      <td>0.0</td>\n",
              "      <td>0.0</td>\n",
              "      <td>0.0</td>\n",
              "      <td>0.0</td>\n",
              "      <td>0.0</td>\n",
              "      <td>0.0</td>\n",
              "      <td>0.0</td>\n",
              "      <td>1.0</td>\n",
              "      <td>0.0</td>\n",
              "      <td>0.0</td>\n",
              "    </tr>\n",
              "    <tr>\n",
              "      <th>4</th>\n",
              "      <td>0.010177</td>\n",
              "      <td>0.001014</td>\n",
              "      <td>0.004907</td>\n",
              "      <td>0.007345</td>\n",
              "      <td>0.444101</td>\n",
              "      <td>1.0</td>\n",
              "      <td>0.0</td>\n",
              "      <td>0.0</td>\n",
              "      <td>0.0</td>\n",
              "      <td>0.0</td>\n",
              "      <td>0.0</td>\n",
              "      <td>1.0</td>\n",
              "      <td>0.0</td>\n",
              "      <td>0.0</td>\n",
              "      <td>0.0</td>\n",
              "      <td>0.0</td>\n",
              "    </tr>\n",
              "  </tbody>\n",
              "</table>\n",
              "</div>\n",
              "      <button class=\"colab-df-convert\" onclick=\"convertToInteractive('df-d73cb673-7b97-4b7e-8ae2-3f3d0132d8fd')\"\n",
              "              title=\"Convert this dataframe to an interactive table.\"\n",
              "              style=\"display:none;\">\n",
              "        \n",
              "  <svg xmlns=\"http://www.w3.org/2000/svg\" height=\"24px\"viewBox=\"0 0 24 24\"\n",
              "       width=\"24px\">\n",
              "    <path d=\"M0 0h24v24H0V0z\" fill=\"none\"/>\n",
              "    <path d=\"M18.56 5.44l.94 2.06.94-2.06 2.06-.94-2.06-.94-.94-2.06-.94 2.06-2.06.94zm-11 1L8.5 8.5l.94-2.06 2.06-.94-2.06-.94L8.5 2.5l-.94 2.06-2.06.94zm10 10l.94 2.06.94-2.06 2.06-.94-2.06-.94-.94-2.06-.94 2.06-2.06.94z\"/><path d=\"M17.41 7.96l-1.37-1.37c-.4-.4-.92-.59-1.43-.59-.52 0-1.04.2-1.43.59L10.3 9.45l-7.72 7.72c-.78.78-.78 2.05 0 2.83L4 21.41c.39.39.9.59 1.41.59.51 0 1.02-.2 1.41-.59l7.78-7.78 2.81-2.81c.8-.78.8-2.07 0-2.86zM5.41 20L4 18.59l7.72-7.72 1.47 1.35L5.41 20z\"/>\n",
              "  </svg>\n",
              "      </button>\n",
              "      \n",
              "  <style>\n",
              "    .colab-df-container {\n",
              "      display:flex;\n",
              "      flex-wrap:wrap;\n",
              "      gap: 12px;\n",
              "    }\n",
              "\n",
              "    .colab-df-convert {\n",
              "      background-color: #E8F0FE;\n",
              "      border: none;\n",
              "      border-radius: 50%;\n",
              "      cursor: pointer;\n",
              "      display: none;\n",
              "      fill: #1967D2;\n",
              "      height: 32px;\n",
              "      padding: 0 0 0 0;\n",
              "      width: 32px;\n",
              "    }\n",
              "\n",
              "    .colab-df-convert:hover {\n",
              "      background-color: #E2EBFA;\n",
              "      box-shadow: 0px 1px 2px rgba(60, 64, 67, 0.3), 0px 1px 3px 1px rgba(60, 64, 67, 0.15);\n",
              "      fill: #174EA6;\n",
              "    }\n",
              "\n",
              "    [theme=dark] .colab-df-convert {\n",
              "      background-color: #3B4455;\n",
              "      fill: #D2E3FC;\n",
              "    }\n",
              "\n",
              "    [theme=dark] .colab-df-convert:hover {\n",
              "      background-color: #434B5C;\n",
              "      box-shadow: 0px 1px 3px 1px rgba(0, 0, 0, 0.15);\n",
              "      filter: drop-shadow(0px 1px 2px rgba(0, 0, 0, 0.3));\n",
              "      fill: #FFFFFF;\n",
              "    }\n",
              "  </style>\n",
              "\n",
              "      <script>\n",
              "        const buttonEl =\n",
              "          document.querySelector('#df-d73cb673-7b97-4b7e-8ae2-3f3d0132d8fd button.colab-df-convert');\n",
              "        buttonEl.style.display =\n",
              "          google.colab.kernel.accessAllowed ? 'block' : 'none';\n",
              "\n",
              "        async function convertToInteractive(key) {\n",
              "          const element = document.querySelector('#df-d73cb673-7b97-4b7e-8ae2-3f3d0132d8fd');\n",
              "          const dataTable =\n",
              "            await google.colab.kernel.invokeFunction('convertToInteractive',\n",
              "                                                     [key], {});\n",
              "          if (!dataTable) return;\n",
              "\n",
              "          const docLinkHtml = 'Like what you see? Visit the ' +\n",
              "            '<a target=\"_blank\" href=https://colab.research.google.com/notebooks/data_table.ipynb>data table notebook</a>'\n",
              "            + ' to learn more about interactive tables.';\n",
              "          element.innerHTML = '';\n",
              "          dataTable['output_type'] = 'display_data';\n",
              "          await google.colab.output.renderOutput(dataTable, element);\n",
              "          const docLink = document.createElement('div');\n",
              "          docLink.innerHTML = docLinkHtml;\n",
              "          element.appendChild(docLink);\n",
              "        }\n",
              "      </script>\n",
              "    </div>\n",
              "  </div>\n",
              "  "
            ]
          },
          "metadata": {},
          "execution_count": 104
        }
      ]
    },
    {
      "cell_type": "code",
      "execution_count": 105,
      "id": "6ffff564",
      "metadata": {
        "id": "6ffff564"
      },
      "outputs": [],
      "source": [
        "# Separate the data into input features X and target y\n",
        "y=df_6['SALE PRICE']\n",
        "X=df_6.drop('SALE PRICE',axis=1)"
      ]
    },
    {
      "cell_type": "code",
      "execution_count": 106,
      "id": "6dab5daf",
      "metadata": {
        "scrolled": true,
        "colab": {
          "base_uri": "https://localhost:8080/"
        },
        "id": "6dab5daf",
        "outputId": "d65efaa2-d880-41a7-d7a4-a2aec1ceadba"
      },
      "outputs": [
        {
          "output_type": "execute_result",
          "data": {
            "text/plain": [
              "0        0.002998\n",
              "1        0.001781\n",
              "2        0.003620\n",
              "3        0.001445\n",
              "4        0.007345\n",
              "           ...   \n",
              "29276    0.000204\n",
              "29277    0.000249\n",
              "29278    0.000208\n",
              "29279    0.005291\n",
              "29280    0.000031\n",
              "Name: SALE PRICE, Length: 29281, dtype: float64"
            ]
          },
          "metadata": {},
          "execution_count": 106
        }
      ],
      "source": [
        "y"
      ]
    },
    {
      "cell_type": "code",
      "execution_count": 107,
      "id": "76a65b58",
      "metadata": {
        "scrolled": true,
        "colab": {
          "base_uri": "https://localhost:8080/",
          "height": 423
        },
        "id": "76a65b58",
        "outputId": "83305e9b-4c7d-4d04-c5b1-5797ac6699bd"
      },
      "outputs": [
        {
          "output_type": "execute_result",
          "data": {
            "text/plain": [
              "       TOTAL UNITS  LAND SQUARE FEET  GROSS SQUARE FEET       AGE  B_1  B_2  \\\n",
              "0         0.001770          0.000339           0.001685  0.539546  1.0  0.0   \n",
              "1         0.003982          0.000490           0.001780  0.475810  1.0  0.0   \n",
              "2         0.002212          0.000513           0.001199  0.536464  1.0  0.0   \n",
              "3         0.003097          0.000367           0.001095  0.443532  1.0  0.0   \n",
              "4         0.010177          0.001014           0.004907  0.444101  1.0  0.0   \n",
              "...            ...               ...                ...       ...  ...  ...   \n",
              "29276     0.000442          0.000520           0.000655  0.084585  0.0  0.0   \n",
              "29277     0.000442          0.000544           0.000602  0.086403  0.0  0.0   \n",
              "29278     0.000442          0.000899           0.000367  0.424060  0.0  0.0   \n",
              "29279     0.002655          0.049155           0.017064  0.071034  0.0  0.0   \n",
              "29280     0.000000          0.002506           0.000608  0.047280  0.0  0.0   \n",
              "\n",
              "       B_3  B_4  B_5  TAX_1  TAX_2  TAX_2A  TAX_2B  TAX_2C  TAX_4  \n",
              "0      0.0  0.0  0.0    0.0    0.0     1.0     0.0     0.0    0.0  \n",
              "1      0.0  0.0  0.0    0.0    0.0     0.0     1.0     0.0    0.0  \n",
              "2      0.0  0.0  0.0    0.0    0.0     1.0     0.0     0.0    0.0  \n",
              "3      0.0  0.0  0.0    0.0    0.0     0.0     1.0     0.0    0.0  \n",
              "4      0.0  0.0  0.0    0.0    1.0     0.0     0.0     0.0    0.0  \n",
              "...    ...  ...  ...    ...    ...     ...     ...     ...    ...  \n",
              "29276  0.0  0.0  1.0    1.0    0.0     0.0     0.0     0.0    0.0  \n",
              "29277  0.0  0.0  1.0    1.0    0.0     0.0     0.0     0.0    0.0  \n",
              "29278  0.0  0.0  1.0    1.0    0.0     0.0     0.0     0.0    0.0  \n",
              "29279  0.0  0.0  1.0    0.0    0.0     0.0     0.0     0.0    1.0  \n",
              "29280  0.0  0.0  1.0    0.0    0.0     0.0     0.0     0.0    1.0  \n",
              "\n",
              "[29281 rows x 15 columns]"
            ],
            "text/html": [
              "\n",
              "  <div id=\"df-678fe13d-0667-4f72-8f98-21c4a5a154b8\">\n",
              "    <div class=\"colab-df-container\">\n",
              "      <div>\n",
              "<style scoped>\n",
              "    .dataframe tbody tr th:only-of-type {\n",
              "        vertical-align: middle;\n",
              "    }\n",
              "\n",
              "    .dataframe tbody tr th {\n",
              "        vertical-align: top;\n",
              "    }\n",
              "\n",
              "    .dataframe thead th {\n",
              "        text-align: right;\n",
              "    }\n",
              "</style>\n",
              "<table border=\"1\" class=\"dataframe\">\n",
              "  <thead>\n",
              "    <tr style=\"text-align: right;\">\n",
              "      <th></th>\n",
              "      <th>TOTAL UNITS</th>\n",
              "      <th>LAND SQUARE FEET</th>\n",
              "      <th>GROSS SQUARE FEET</th>\n",
              "      <th>AGE</th>\n",
              "      <th>B_1</th>\n",
              "      <th>B_2</th>\n",
              "      <th>B_3</th>\n",
              "      <th>B_4</th>\n",
              "      <th>B_5</th>\n",
              "      <th>TAX_1</th>\n",
              "      <th>TAX_2</th>\n",
              "      <th>TAX_2A</th>\n",
              "      <th>TAX_2B</th>\n",
              "      <th>TAX_2C</th>\n",
              "      <th>TAX_4</th>\n",
              "    </tr>\n",
              "  </thead>\n",
              "  <tbody>\n",
              "    <tr>\n",
              "      <th>0</th>\n",
              "      <td>0.001770</td>\n",
              "      <td>0.000339</td>\n",
              "      <td>0.001685</td>\n",
              "      <td>0.539546</td>\n",
              "      <td>1.0</td>\n",
              "      <td>0.0</td>\n",
              "      <td>0.0</td>\n",
              "      <td>0.0</td>\n",
              "      <td>0.0</td>\n",
              "      <td>0.0</td>\n",
              "      <td>0.0</td>\n",
              "      <td>1.0</td>\n",
              "      <td>0.0</td>\n",
              "      <td>0.0</td>\n",
              "      <td>0.0</td>\n",
              "    </tr>\n",
              "    <tr>\n",
              "      <th>1</th>\n",
              "      <td>0.003982</td>\n",
              "      <td>0.000490</td>\n",
              "      <td>0.001780</td>\n",
              "      <td>0.475810</td>\n",
              "      <td>1.0</td>\n",
              "      <td>0.0</td>\n",
              "      <td>0.0</td>\n",
              "      <td>0.0</td>\n",
              "      <td>0.0</td>\n",
              "      <td>0.0</td>\n",
              "      <td>0.0</td>\n",
              "      <td>0.0</td>\n",
              "      <td>1.0</td>\n",
              "      <td>0.0</td>\n",
              "      <td>0.0</td>\n",
              "    </tr>\n",
              "    <tr>\n",
              "      <th>2</th>\n",
              "      <td>0.002212</td>\n",
              "      <td>0.000513</td>\n",
              "      <td>0.001199</td>\n",
              "      <td>0.536464</td>\n",
              "      <td>1.0</td>\n",
              "      <td>0.0</td>\n",
              "      <td>0.0</td>\n",
              "      <td>0.0</td>\n",
              "      <td>0.0</td>\n",
              "      <td>0.0</td>\n",
              "      <td>0.0</td>\n",
              "      <td>1.0</td>\n",
              "      <td>0.0</td>\n",
              "      <td>0.0</td>\n",
              "      <td>0.0</td>\n",
              "    </tr>\n",
              "    <tr>\n",
              "      <th>3</th>\n",
              "      <td>0.003097</td>\n",
              "      <td>0.000367</td>\n",
              "      <td>0.001095</td>\n",
              "      <td>0.443532</td>\n",
              "      <td>1.0</td>\n",
              "      <td>0.0</td>\n",
              "      <td>0.0</td>\n",
              "      <td>0.0</td>\n",
              "      <td>0.0</td>\n",
              "      <td>0.0</td>\n",
              "      <td>0.0</td>\n",
              "      <td>0.0</td>\n",
              "      <td>1.0</td>\n",
              "      <td>0.0</td>\n",
              "      <td>0.0</td>\n",
              "    </tr>\n",
              "    <tr>\n",
              "      <th>4</th>\n",
              "      <td>0.010177</td>\n",
              "      <td>0.001014</td>\n",
              "      <td>0.004907</td>\n",
              "      <td>0.444101</td>\n",
              "      <td>1.0</td>\n",
              "      <td>0.0</td>\n",
              "      <td>0.0</td>\n",
              "      <td>0.0</td>\n",
              "      <td>0.0</td>\n",
              "      <td>0.0</td>\n",
              "      <td>1.0</td>\n",
              "      <td>0.0</td>\n",
              "      <td>0.0</td>\n",
              "      <td>0.0</td>\n",
              "      <td>0.0</td>\n",
              "    </tr>\n",
              "    <tr>\n",
              "      <th>...</th>\n",
              "      <td>...</td>\n",
              "      <td>...</td>\n",
              "      <td>...</td>\n",
              "      <td>...</td>\n",
              "      <td>...</td>\n",
              "      <td>...</td>\n",
              "      <td>...</td>\n",
              "      <td>...</td>\n",
              "      <td>...</td>\n",
              "      <td>...</td>\n",
              "      <td>...</td>\n",
              "      <td>...</td>\n",
              "      <td>...</td>\n",
              "      <td>...</td>\n",
              "      <td>...</td>\n",
              "    </tr>\n",
              "    <tr>\n",
              "      <th>29276</th>\n",
              "      <td>0.000442</td>\n",
              "      <td>0.000520</td>\n",
              "      <td>0.000655</td>\n",
              "      <td>0.084585</td>\n",
              "      <td>0.0</td>\n",
              "      <td>0.0</td>\n",
              "      <td>0.0</td>\n",
              "      <td>0.0</td>\n",
              "      <td>1.0</td>\n",
              "      <td>1.0</td>\n",
              "      <td>0.0</td>\n",
              "      <td>0.0</td>\n",
              "      <td>0.0</td>\n",
              "      <td>0.0</td>\n",
              "      <td>0.0</td>\n",
              "    </tr>\n",
              "    <tr>\n",
              "      <th>29277</th>\n",
              "      <td>0.000442</td>\n",
              "      <td>0.000544</td>\n",
              "      <td>0.000602</td>\n",
              "      <td>0.086403</td>\n",
              "      <td>0.0</td>\n",
              "      <td>0.0</td>\n",
              "      <td>0.0</td>\n",
              "      <td>0.0</td>\n",
              "      <td>1.0</td>\n",
              "      <td>1.0</td>\n",
              "      <td>0.0</td>\n",
              "      <td>0.0</td>\n",
              "      <td>0.0</td>\n",
              "      <td>0.0</td>\n",
              "      <td>0.0</td>\n",
              "    </tr>\n",
              "    <tr>\n",
              "      <th>29278</th>\n",
              "      <td>0.000442</td>\n",
              "      <td>0.000899</td>\n",
              "      <td>0.000367</td>\n",
              "      <td>0.424060</td>\n",
              "      <td>0.0</td>\n",
              "      <td>0.0</td>\n",
              "      <td>0.0</td>\n",
              "      <td>0.0</td>\n",
              "      <td>1.0</td>\n",
              "      <td>1.0</td>\n",
              "      <td>0.0</td>\n",
              "      <td>0.0</td>\n",
              "      <td>0.0</td>\n",
              "      <td>0.0</td>\n",
              "      <td>0.0</td>\n",
              "    </tr>\n",
              "    <tr>\n",
              "      <th>29279</th>\n",
              "      <td>0.002655</td>\n",
              "      <td>0.049155</td>\n",
              "      <td>0.017064</td>\n",
              "      <td>0.071034</td>\n",
              "      <td>0.0</td>\n",
              "      <td>0.0</td>\n",
              "      <td>0.0</td>\n",
              "      <td>0.0</td>\n",
              "      <td>1.0</td>\n",
              "      <td>0.0</td>\n",
              "      <td>0.0</td>\n",
              "      <td>0.0</td>\n",
              "      <td>0.0</td>\n",
              "      <td>0.0</td>\n",
              "      <td>1.0</td>\n",
              "    </tr>\n",
              "    <tr>\n",
              "      <th>29280</th>\n",
              "      <td>0.000000</td>\n",
              "      <td>0.002506</td>\n",
              "      <td>0.000608</td>\n",
              "      <td>0.047280</td>\n",
              "      <td>0.0</td>\n",
              "      <td>0.0</td>\n",
              "      <td>0.0</td>\n",
              "      <td>0.0</td>\n",
              "      <td>1.0</td>\n",
              "      <td>0.0</td>\n",
              "      <td>0.0</td>\n",
              "      <td>0.0</td>\n",
              "      <td>0.0</td>\n",
              "      <td>0.0</td>\n",
              "      <td>1.0</td>\n",
              "    </tr>\n",
              "  </tbody>\n",
              "</table>\n",
              "<p>29281 rows × 15 columns</p>\n",
              "</div>\n",
              "      <button class=\"colab-df-convert\" onclick=\"convertToInteractive('df-678fe13d-0667-4f72-8f98-21c4a5a154b8')\"\n",
              "              title=\"Convert this dataframe to an interactive table.\"\n",
              "              style=\"display:none;\">\n",
              "        \n",
              "  <svg xmlns=\"http://www.w3.org/2000/svg\" height=\"24px\"viewBox=\"0 0 24 24\"\n",
              "       width=\"24px\">\n",
              "    <path d=\"M0 0h24v24H0V0z\" fill=\"none\"/>\n",
              "    <path d=\"M18.56 5.44l.94 2.06.94-2.06 2.06-.94-2.06-.94-.94-2.06-.94 2.06-2.06.94zm-11 1L8.5 8.5l.94-2.06 2.06-.94-2.06-.94L8.5 2.5l-.94 2.06-2.06.94zm10 10l.94 2.06.94-2.06 2.06-.94-2.06-.94-.94-2.06-.94 2.06-2.06.94z\"/><path d=\"M17.41 7.96l-1.37-1.37c-.4-.4-.92-.59-1.43-.59-.52 0-1.04.2-1.43.59L10.3 9.45l-7.72 7.72c-.78.78-.78 2.05 0 2.83L4 21.41c.39.39.9.59 1.41.59.51 0 1.02-.2 1.41-.59l7.78-7.78 2.81-2.81c.8-.78.8-2.07 0-2.86zM5.41 20L4 18.59l7.72-7.72 1.47 1.35L5.41 20z\"/>\n",
              "  </svg>\n",
              "      </button>\n",
              "      \n",
              "  <style>\n",
              "    .colab-df-container {\n",
              "      display:flex;\n",
              "      flex-wrap:wrap;\n",
              "      gap: 12px;\n",
              "    }\n",
              "\n",
              "    .colab-df-convert {\n",
              "      background-color: #E8F0FE;\n",
              "      border: none;\n",
              "      border-radius: 50%;\n",
              "      cursor: pointer;\n",
              "      display: none;\n",
              "      fill: #1967D2;\n",
              "      height: 32px;\n",
              "      padding: 0 0 0 0;\n",
              "      width: 32px;\n",
              "    }\n",
              "\n",
              "    .colab-df-convert:hover {\n",
              "      background-color: #E2EBFA;\n",
              "      box-shadow: 0px 1px 2px rgba(60, 64, 67, 0.3), 0px 1px 3px 1px rgba(60, 64, 67, 0.15);\n",
              "      fill: #174EA6;\n",
              "    }\n",
              "\n",
              "    [theme=dark] .colab-df-convert {\n",
              "      background-color: #3B4455;\n",
              "      fill: #D2E3FC;\n",
              "    }\n",
              "\n",
              "    [theme=dark] .colab-df-convert:hover {\n",
              "      background-color: #434B5C;\n",
              "      box-shadow: 0px 1px 3px 1px rgba(0, 0, 0, 0.15);\n",
              "      filter: drop-shadow(0px 1px 2px rgba(0, 0, 0, 0.3));\n",
              "      fill: #FFFFFF;\n",
              "    }\n",
              "  </style>\n",
              "\n",
              "      <script>\n",
              "        const buttonEl =\n",
              "          document.querySelector('#df-678fe13d-0667-4f72-8f98-21c4a5a154b8 button.colab-df-convert');\n",
              "        buttonEl.style.display =\n",
              "          google.colab.kernel.accessAllowed ? 'block' : 'none';\n",
              "\n",
              "        async function convertToInteractive(key) {\n",
              "          const element = document.querySelector('#df-678fe13d-0667-4f72-8f98-21c4a5a154b8');\n",
              "          const dataTable =\n",
              "            await google.colab.kernel.invokeFunction('convertToInteractive',\n",
              "                                                     [key], {});\n",
              "          if (!dataTable) return;\n",
              "\n",
              "          const docLinkHtml = 'Like what you see? Visit the ' +\n",
              "            '<a target=\"_blank\" href=https://colab.research.google.com/notebooks/data_table.ipynb>data table notebook</a>'\n",
              "            + ' to learn more about interactive tables.';\n",
              "          element.innerHTML = '';\n",
              "          dataTable['output_type'] = 'display_data';\n",
              "          await google.colab.output.renderOutput(dataTable, element);\n",
              "          const docLink = document.createElement('div');\n",
              "          docLink.innerHTML = docLinkHtml;\n",
              "          element.appendChild(docLink);\n",
              "        }\n",
              "      </script>\n",
              "    </div>\n",
              "  </div>\n",
              "  "
            ]
          },
          "metadata": {},
          "execution_count": 107
        }
      ],
      "source": [
        "X"
      ]
    },
    {
      "cell_type": "code",
      "execution_count": 108,
      "id": "615807d1",
      "metadata": {
        "id": "615807d1"
      },
      "outputs": [],
      "source": [
        "from sklearn.linear_model import LinearRegression\n",
        "from sklearn.model_selection import train_test_split\n",
        "from sklearn.metrics import mean_squared_error, r2_score"
      ]
    },
    {
      "cell_type": "code",
      "execution_count": 109,
      "id": "eb53d2b3",
      "metadata": {
        "id": "eb53d2b3"
      },
      "outputs": [],
      "source": [
        "# Split data into training and testing sets\n",
        "X_train, X_test, y_train, y_test = train_test_split(X, y, test_size=0.2, random_state=42)"
      ]
    },
    {
      "cell_type": "markdown",
      "source": [
        "# **LINEAR REGRESSION**"
      ],
      "metadata": {
        "id": "QC2VFe2jKmW3"
      },
      "id": "QC2VFe2jKmW3"
    },
    {
      "cell_type": "code",
      "execution_count": 110,
      "id": "40ad0e2f",
      "metadata": {
        "colab": {
          "base_uri": "https://localhost:8080/"
        },
        "id": "40ad0e2f",
        "outputId": "57a3451a-db07-420f-fdb8-6358c29ff453"
      },
      "outputs": [
        {
          "output_type": "execute_result",
          "data": {
            "text/plain": [
              "LinearRegression()"
            ]
          },
          "metadata": {},
          "execution_count": 110
        }
      ],
      "source": [
        "# Create an instance of the LinearRegression class and fit the model to the training data\n",
        "lr = LinearRegression()\n",
        "\n",
        "lr.fit(X_train, y_train)\n"
      ]
    },
    {
      "cell_type": "code",
      "execution_count": 111,
      "id": "09115f1c",
      "metadata": {
        "scrolled": true,
        "id": "09115f1c"
      },
      "outputs": [],
      "source": [
        "# Predict the target variable on the testing data\n",
        "y_pred = lr.predict(X_test)"
      ]
    },
    {
      "cell_type": "code",
      "execution_count": 112,
      "id": "1a88ac3d",
      "metadata": {
        "colab": {
          "base_uri": "https://localhost:8080/"
        },
        "id": "1a88ac3d",
        "outputId": "0b445553-d37a-4ade-f7a4-b0732147045c"
      },
      "outputs": [
        {
          "output_type": "stream",
          "name": "stdout",
          "text": [
            "Mean squared error:  1.5628732797513733e-05\n",
            "R-squared value:  0.30850876462697086\n"
          ]
        }
      ],
      "source": [
        "\n",
        "# Evaluate the model\n",
        "mse = mean_squared_error(y_test, y_pred)\n",
        "r2 = r2_score(y_test, y_pred)\n",
        "\n",
        "print('Mean squared error: ', mse)\n",
        "print('R-squared value: ', r2)"
      ]
    },
    {
      "cell_type": "code",
      "source": [],
      "metadata": {
        "id": "tbQt4EuFK0wl"
      },
      "id": "tbQt4EuFK0wl",
      "execution_count": 112,
      "outputs": []
    },
    {
      "cell_type": "markdown",
      "source": [
        "# **XGBRegressor**"
      ],
      "metadata": {
        "id": "AQhK9f65K7JO"
      },
      "id": "AQhK9f65K7JO"
    },
    {
      "cell_type": "code",
      "source": [
        "import xgboost as xgb\n",
        "from sklearn.metrics import  mean_squared_error, r2_score"
      ],
      "metadata": {
        "id": "uQtFhc-I3OhQ"
      },
      "id": "uQtFhc-I3OhQ",
      "execution_count": 113,
      "outputs": []
    },
    {
      "cell_type": "code",
      "source": [
        "xgb_reg = xgb.XGBRegressor(objective='reg:squarederror', random_state=42)"
      ],
      "metadata": {
        "id": "0JJ3w-8k4enP"
      },
      "id": "0JJ3w-8k4enP",
      "execution_count": 114,
      "outputs": []
    },
    {
      "cell_type": "code",
      "source": [
        "xgb_reg.fit(X_train, y_train)"
      ],
      "metadata": {
        "colab": {
          "base_uri": "https://localhost:8080/"
        },
        "id": "FmSNJIBx4qTI",
        "outputId": "cc89743f-ef9b-40e8-e176-37cd27d4780e"
      },
      "id": "FmSNJIBx4qTI",
      "execution_count": 115,
      "outputs": [
        {
          "output_type": "execute_result",
          "data": {
            "text/plain": [
              "XGBRegressor(base_score=None, booster=None, callbacks=None,\n",
              "             colsample_bylevel=None, colsample_bynode=None,\n",
              "             colsample_bytree=None, early_stopping_rounds=None,\n",
              "             enable_categorical=False, eval_metric=None, feature_types=None,\n",
              "             gamma=None, gpu_id=None, grow_policy=None, importance_type=None,\n",
              "             interaction_constraints=None, learning_rate=None, max_bin=None,\n",
              "             max_cat_threshold=None, max_cat_to_onehot=None,\n",
              "             max_delta_step=None, max_depth=None, max_leaves=None,\n",
              "             min_child_weight=None, missing=nan, monotone_constraints=None,\n",
              "             n_estimators=100, n_jobs=None, num_parallel_tree=None,\n",
              "             predictor=None, random_state=42, ...)"
            ]
          },
          "metadata": {},
          "execution_count": 115
        }
      ]
    },
    {
      "cell_type": "code",
      "source": [
        "y_pred = xgb_reg.predict(X_test)"
      ],
      "metadata": {
        "id": "lNDbvz07412q"
      },
      "id": "lNDbvz07412q",
      "execution_count": 116,
      "outputs": []
    },
    {
      "cell_type": "code",
      "source": [
        "mse = mean_squared_error(y_test, y_pred)\n",
        "mse"
      ],
      "metadata": {
        "colab": {
          "base_uri": "https://localhost:8080/"
        },
        "id": "7wZnL71g5Hw4",
        "outputId": "93d3ed4f-8b7d-4be7-e123-2a0fb2773b04"
      },
      "id": "7wZnL71g5Hw4",
      "execution_count": 117,
      "outputs": [
        {
          "output_type": "execute_result",
          "data": {
            "text/plain": [
              "1.89313094234954e-05"
            ]
          },
          "metadata": {},
          "execution_count": 117
        }
      ]
    },
    {
      "cell_type": "code",
      "source": [
        "r2 = r2_score(y_test, y_pred)\n",
        "r2"
      ],
      "metadata": {
        "colab": {
          "base_uri": "https://localhost:8080/"
        },
        "id": "YJWmTH7043t2",
        "outputId": "d8428cb7-0be7-4bf7-f1e3-876302b40500"
      },
      "id": "YJWmTH7043t2",
      "execution_count": 118,
      "outputs": [
        {
          "output_type": "execute_result",
          "data": {
            "text/plain": [
              "0.1623866944244875"
            ]
          },
          "metadata": {},
          "execution_count": 118
        }
      ]
    },
    {
      "cell_type": "markdown",
      "source": [
        "# **RandomForestRegressor**"
      ],
      "metadata": {
        "id": "sUURXsynLoez"
      },
      "id": "sUURXsynLoez"
    },
    {
      "cell_type": "code",
      "source": [
        "from sklearn.ensemble import RandomForestRegressor\n",
        "from sklearn.metrics import  mean_squared_error, r2_score"
      ],
      "metadata": {
        "id": "dK0Sos1a5XGk"
      },
      "id": "dK0Sos1a5XGk",
      "execution_count": 119,
      "outputs": []
    },
    {
      "cell_type": "code",
      "source": [
        "rf_reg = RandomForestRegressor(n_estimators=100, random_state=42)"
      ],
      "metadata": {
        "id": "EDUTXzAd6f2g"
      },
      "id": "EDUTXzAd6f2g",
      "execution_count": 120,
      "outputs": []
    },
    {
      "cell_type": "code",
      "source": [
        "rf_reg.fit(X_train, y_train)"
      ],
      "metadata": {
        "colab": {
          "base_uri": "https://localhost:8080/"
        },
        "id": "m66eRndX6qAv",
        "outputId": "4416d9dd-45a1-40b4-907a-9504c539608a"
      },
      "id": "m66eRndX6qAv",
      "execution_count": 121,
      "outputs": [
        {
          "output_type": "execute_result",
          "data": {
            "text/plain": [
              "RandomForestRegressor(random_state=42)"
            ]
          },
          "metadata": {},
          "execution_count": 121
        }
      ]
    },
    {
      "cell_type": "code",
      "source": [
        "y_pred = rf_reg.predict(X_test)"
      ],
      "metadata": {
        "id": "gU29ZMys6tv6"
      },
      "id": "gU29ZMys6tv6",
      "execution_count": 122,
      "outputs": []
    },
    {
      "cell_type": "code",
      "source": [
        "mse = mean_squared_error(y_test, y_pred)\n",
        "mse"
      ],
      "metadata": {
        "colab": {
          "base_uri": "https://localhost:8080/"
        },
        "id": "VTBU9C0L6uLY",
        "outputId": "d901b8cf-a525-4148-e260-c20f88c5990a"
      },
      "id": "VTBU9C0L6uLY",
      "execution_count": 123,
      "outputs": [
        {
          "output_type": "execute_result",
          "data": {
            "text/plain": [
              "1.3441932287894124e-05"
            ]
          },
          "metadata": {},
          "execution_count": 123
        }
      ]
    },
    {
      "cell_type": "code",
      "source": [
        "r2 = r2_score(y_test, y_pred)\n",
        "r2"
      ],
      "metadata": {
        "colab": {
          "base_uri": "https://localhost:8080/"
        },
        "id": "UOfBdRys6-Be",
        "outputId": "e9bd48ae-e2b4-4fbf-96f2-ff74ce3aab6d"
      },
      "id": "UOfBdRys6-Be",
      "execution_count": 124,
      "outputs": [
        {
          "output_type": "execute_result",
          "data": {
            "text/plain": [
              "0.4052634667197592"
            ]
          },
          "metadata": {},
          "execution_count": 124
        }
      ]
    }
  ],
  "metadata": {
    "kernelspec": {
      "display_name": "Python 3 (ipykernel)",
      "language": "python",
      "name": "python3"
    },
    "language_info": {
      "codemirror_mode": {
        "name": "ipython",
        "version": 3
      },
      "file_extension": ".py",
      "mimetype": "text/x-python",
      "name": "python",
      "nbconvert_exporter": "python",
      "pygments_lexer": "ipython3",
      "version": "3.9.12"
    },
    "colab": {
      "provenance": []
    },
    "gpuClass": "standard"
  },
  "nbformat": 4,
  "nbformat_minor": 5
}